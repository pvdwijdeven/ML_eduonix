{
 "cells": [
  {
   "cell_type": "markdown",
   "metadata": {},
   "source": [
    "# Problem 2.3 (matplotlib)\n",
    "\n",
    "- Use a for loop to add data with multiple colours onto a single matplotlib figure\n",
    "    - From the Iris dataset build a figure comparing 2 dimensions of the dataset\n",
    "    - Each scatterplot color must represent a different species\n",
    "- Adjust the styling of the graph to include meaningful y-axis, x-axis, and title"
   ]
  },
  {
   "cell_type": "code",
   "execution_count": null,
   "metadata": {},
   "outputs": [],
   "source": []
  }
 ],
 "metadata": {
  "kernelspec": {
   "display_name": "Python 3",
   "language": "python",
   "name": "python3"
  },
  "language_info": {
   "codemirror_mode": {
    "name": "ipython",
    "version": 3
   },
   "file_extension": ".py",
   "mimetype": "text/x-python",
   "name": "python",
   "nbconvert_exporter": "python",
   "pygments_lexer": "ipython3",
   "version": "3.7.3"
  }
 },
 "nbformat": 4,
 "nbformat_minor": 2
}
