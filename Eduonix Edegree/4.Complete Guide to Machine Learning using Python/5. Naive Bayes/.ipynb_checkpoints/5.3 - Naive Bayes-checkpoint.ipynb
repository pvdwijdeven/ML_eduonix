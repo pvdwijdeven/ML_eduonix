{
 "cells": [
  {
   "cell_type": "code",
   "execution_count": 1,
   "metadata": {},
   "outputs": [
    {
     "name": "stderr",
     "output_type": "stream",
     "text": [
      "Downloading 20news dataset. This may take a few minutes.\n",
      "Downloading dataset from https://ndownloader.figshare.com/files/5975967 (14 MB)\n"
     ]
    },
    {
     "name": "stdout",
     "output_type": "stream",
     "text": [
      "  (0, 1445)\t0.06063390625908324\n",
      "  (0, 5580)\t0.06063390625908324\n",
      "  (0, 6111)\t0.06063390625908324\n",
      "  (0, 6248)\t0.30316953129541624\n",
      "  (0, 6418)\t0.06063390625908324\n",
      "  (0, 6537)\t0.06063390625908324\n",
      "  (0, 6641)\t0.06063390625908324\n",
      "  (0, 6657)\t0.06063390625908324\n",
      "  (0, 6839)\t0.06063390625908324\n",
      "  (0, 6845)\t0.06063390625908324\n",
      "  (0, 7204)\t0.12126781251816648\n",
      "  (0, 7844)\t0.06063390625908324\n",
      "  (0, 8029)\t0.06063390625908324\n",
      "  (0, 9235)\t0.06063390625908324\n",
      "  (0, 9274)\t0.06063390625908324\n",
      "  (0, 9613)\t0.06063390625908324\n",
      "  (0, 10637)\t0.06063390625908324\n",
      "  (0, 10777)\t0.06063390625908324\n",
      "  (0, 10907)\t0.12126781251816648\n",
      "  (0, 11702)\t0.06063390625908324\n",
      "  (0, 12689)\t0.06063390625908324\n",
      "  (0, 13704)\t0.06063390625908324\n",
      "  (0, 13877)\t0.12126781251816648\n",
      "  (0, 14486)\t0.06063390625908324\n",
      "  (0, 14541)\t0.06063390625908324\n",
      "  :\t:\n",
      "  (2372, 28161)\t0.048621663832631515\n",
      "  (2372, 29486)\t0.048621663832631515\n",
      "  (2372, 31618)\t0.048621663832631515\n",
      "  (2372, 32574)\t0.048621663832631515\n",
      "  (2372, 32591)\t0.14586499149789456\n",
      "  (2372, 32684)\t0.09724332766526303\n",
      "  (2372, 33688)\t0.048621663832631515\n",
      "  (2372, 34212)\t0.048621663832631515\n",
      "  (2372, 34267)\t0.048621663832631515\n",
      "  (2372, 34792)\t0.048621663832631515\n",
      "  (2372, 34796)\t0.09724332766526303\n",
      "  (2372, 34802)\t0.2431083191631576\n",
      "  (2372, 34814)\t0.048621663832631515\n",
      "  (2372, 34847)\t0.14586499149789456\n",
      "  (2372, 34882)\t0.048621663832631515\n",
      "  (2372, 34923)\t0.14586499149789456\n",
      "  (2372, 34948)\t0.048621663832631515\n",
      "  (2372, 35157)\t0.3403516468284206\n",
      "  (2372, 35180)\t0.048621663832631515\n",
      "  (2372, 36291)\t0.048621663832631515\n",
      "  (2372, 37601)\t0.048621663832631515\n",
      "  (2372, 37776)\t0.048621663832631515\n",
      "  (2372, 37817)\t0.09724332766526303\n",
      "  (2372, 38132)\t0.048621663832631515\n",
      "  (2372, 38475)\t0.14586499149789456\n"
     ]
    }
   ],
   "source": [
    "from sklearn.datasets import fetch_20newsgroups\n",
    "from sklearn.feature_extraction.text import CountVectorizer\n",
    "from sklearn.feature_extraction.text import TfidfTransformer\n",
    "import numpy as np\n",
    "\n",
    "count_vect = CountVectorizer()\n",
    "\n",
    "cats = ['sci.crypt','sci.electronics', 'sci.med', 'sci.space']\n",
    "twenty_train = fetch_20newsgroups(subset='train',categories=cats, shuffle=True)\n",
    "\n",
    "X_train_counts = count_vect.fit_transform(twenty_train.data)\n",
    "\n",
    "tf_transformer = TfidfTransformer(use_idf=False).fit(X_train_counts)\n",
    "X_train_tfidf = tf_transformer.transform(X_train_counts)\n",
    "print(X_train_tfidf)\n"
   ]
  },
  {
   "cell_type": "code",
   "execution_count": 9,
   "metadata": {},
   "outputs": [
    {
     "name": "stdout",
     "output_type": "stream",
     "text": [
      "'steering wheel is behind dashboard' => rec.autos\n",
      "'computer harddisk needs to be wired' => comp.sys.ibm.pc.hardware\n"
     ]
    }
   ],
   "source": [
    "from sklearn.naive_bayes import MultinomialNB\n",
    "from sklearn.datasets import fetch_20newsgroups\n",
    "from sklearn.feature_extraction.text import CountVectorizer\n",
    "from sklearn.feature_extraction.text import TfidfTransformer\n",
    "import numpy as np\n",
    "\n",
    "count_vect = CountVectorizer()\n",
    "\n",
    "cats = ['sci.crypt','sci.electronics', 'sci.med', 'sci.space']\n",
    "twenty_train = fetch_20newsgroups(subset='train', shuffle=True)\n",
    "twenty_test = fetch_20newsgroups(subset='test', shuffle=True)\n",
    "\n",
    "X_train_counts = count_vect.fit_transform(twenty_train.data) # X_train_counts.shape\n",
    "\n",
    "tf_transformer = TfidfTransformer(use_idf=False).fit(X_train_counts)\n",
    "X_train_tfidf = tf_transformer.transform(X_train_counts)\n",
    "\n",
    "model = MultinomialNB()\n",
    "model.fit(X_train_tfidf, twenty_train.target)\n",
    "\n",
    "docs_new = ['steering wheel is behind dashboard', 'computer harddisk needs to be wired']\n",
    "X_new_counts = count_vect.transform(docs_new)\n",
    "X_new_tfidf = tf_transformer.transform(X_new_counts)\n",
    "predicted = model.predict(X_new_tfidf)\n",
    "\n",
    "for doc, category in zip(docs_new, predicted):\n",
    "    print('%r => %s' % (doc, twenty_test.target_names[category]))\n"
   ]
  },
  {
   "cell_type": "code",
   "execution_count": null,
   "metadata": {},
   "outputs": [],
   "source": []
  }
 ],
 "metadata": {
  "kernelspec": {
   "display_name": "Python 3",
   "language": "python",
   "name": "python3"
  },
  "language_info": {
   "codemirror_mode": {
    "name": "ipython",
    "version": 3
   },
   "file_extension": ".py",
   "mimetype": "text/x-python",
   "name": "python",
   "nbconvert_exporter": "python",
   "pygments_lexer": "ipython3",
   "version": "3.7.3"
  }
 },
 "nbformat": 4,
 "nbformat_minor": 2
}
