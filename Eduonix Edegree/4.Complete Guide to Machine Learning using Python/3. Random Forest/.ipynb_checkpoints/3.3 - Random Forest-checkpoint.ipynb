{
 "cells": [
  {
   "cell_type": "code",
   "execution_count": 4,
   "metadata": {},
   "outputs": [
    {
     "data": {
      "text/plain": [
       "0"
      ]
     },
     "execution_count": 4,
     "metadata": {},
     "output_type": "execute_result"
    }
   ],
   "source": [
    "from sklearn.datasets import load_iris\n",
    "from sklearn.ensemble import RandomForestClassifier\n",
    "import numpy as np\n",
    "from subprocess import call\n",
    "from sklearn.tree import export_graphviz\n",
    "\n",
    "model = RandomForestClassifier(n_estimators=5)\n",
    "iris = load_iris()\n",
    "\n",
    "\n",
    "# Train\n",
    "model.fit(iris.data, iris.target)\n",
    "\n",
    "estimator = model.estimators_[2]\n",
    "\n",
    "# ## Visualize this graph\n",
    "# # Export as dot file\n",
    "export_graphviz(estimator, out_file='tree.dot', \n",
    "                feature_names = iris.feature_names,\n",
    "                class_names = iris.target_names,\n",
    "                rounded = True, proportion = False, \n",
    "                precision = 2, filled = True)\n",
    "\n",
    "# # # Convert to png using system command (requires Graphviz)\n",
    "call(['C:\\\\Users\\\\Gebruiker\\\\Anaconda3\\\\pkgs\\\\graphviz-2.38-hfd603c8_2\\\\Library\\\\bin\\\\graphviz\\\\dot.exe', '-Tpng', 'tree.dot', '-o', 'tree.png'])\n",
    "\n",
    "\n",
    "\n",
    "\n",
    "\n"
   ]
  },
  {
   "cell_type": "code",
   "execution_count": 2,
   "metadata": {},
   "outputs": [
    {
     "name": "stdout",
     "output_type": "stream",
     "text": [
      "Feature ranking:\n",
      "1. feature 4 (0.620110)\n",
      "2. feature 1 (0.173920)\n",
      "3. feature 3 (0.163857)\n",
      "4. feature 2 (0.042113)\n"
     ]
    },
    {
     "data": {
      "text/plain": [
       "<Figure size 640x480 with 1 Axes>"
      ]
     },
     "metadata": {},
     "output_type": "display_data"
    }
   ],
   "source": [
    "from sklearn.datasets import load_iris\n",
    "from sklearn.ensemble import RandomForestClassifier\n",
    "import numpy as np\n",
    "import matplotlib.pyplot as plt\n",
    "\n",
    "model = RandomForestClassifier(n_estimators=5,random_state=0)\n",
    "iris = load_iris()\n",
    "\n",
    "# Train\n",
    "model.fit(iris.data, iris.target)\n",
    "\n",
    "# Extract single tree\n",
    "estimator = model.estimators_[1]\n",
    "\n",
    "\n",
    "treeSTD = np.std([tree.feature_importances_ for tree in model.estimators_], axis=0)\n",
    "importances = model.feature_importances_\n",
    "indices = np.argsort(importances)[::-1]\n",
    "totalFeatures = len(iris.data[0])\n",
    "\n",
    "\n",
    "# Print the feature ranking\n",
    "print(\"Feature ranking:\")\n",
    "for f in range(totalFeatures):\n",
    "    print(\"%d. feature %d (%f)\" % (f + 1, indices[f]+1, importances[indices[f]]))\n",
    "\n",
    "    \n",
    "\n",
    "# Plot the feature importances of the forest\n",
    "plt.figure()\n",
    "plt.title(\"Feature importances\")\n",
    "plt.bar(range(totalFeatures), importances[indices],\n",
    "       color=\"r\", yerr=treeSTD[indices], align=\"center\")\n",
    "plt.xticks(range(totalFeatures), indices)\n",
    "plt.show()\n"
   ]
  },
  {
   "cell_type": "code",
   "execution_count": null,
   "metadata": {},
   "outputs": [],
   "source": []
  }
 ],
 "metadata": {
  "kernelspec": {
   "display_name": "Python 3",
   "language": "python",
   "name": "python3"
  },
  "language_info": {
   "codemirror_mode": {
    "name": "ipython",
    "version": 3
   },
   "file_extension": ".py",
   "mimetype": "text/x-python",
   "name": "python",
   "nbconvert_exporter": "python",
   "pygments_lexer": "ipython3",
   "version": "3.7.3"
  }
 },
 "nbformat": 4,
 "nbformat_minor": 2
}
