{
 "cells": [
  {
   "cell_type": "markdown",
   "metadata": {},
   "source": [
    "- Determine how many folds is necessary to achieve the highest accuracy on a ML algorithm of your choice\n",
    "- You must train your model on a parameter for a range of values within a fold before performing accuracy assessment\n",
    "- You must process and validate your data using the steps described in chapter sections\n"
   ]
  },
  {
   "cell_type": "code",
   "execution_count": 2,
   "metadata": {},
   "outputs": [
    {
     "name": "stdout",
     "output_type": "stream",
     "text": [
      "Fold: 1, Neighbors: 1, Score: 1.0\n",
      "Fold: 1, Neighbors: 2, Score: 1.0\n",
      "Fold: 1, Neighbors: 3, Score: 1.0\n",
      "Fold: 1, Neighbors: 4, Score: 1.0\n",
      "Fold: 1, Neighbors: 5, Score: 1.0\n",
      "Fold: 1, Neighbors: 6, Score: 1.0\n",
      "Fold: 1, Neighbors: 7, Score: 1.0\n",
      "Fold: 1, Neighbors: 8, Score: 1.0\n",
      "Fold: 1, Neighbors: 9, Score: 1.0\n",
      "Fold: 1, Neighbors: 10, Score: 1.0\n",
      "Fold: 2, Neighbors: 1, Score: 1.0\n",
      "Fold: 2, Neighbors: 2, Score: 1.0\n",
      "Fold: 2, Neighbors: 3, Score: 1.0\n",
      "Fold: 2, Neighbors: 4, Score: 1.0\n",
      "Fold: 2, Neighbors: 5, Score: 1.0\n",
      "Fold: 2, Neighbors: 6, Score: 1.0\n",
      "Fold: 2, Neighbors: 7, Score: 0.9969387755102039\n",
      "Fold: 2, Neighbors: 8, Score: 0.99765625\n",
      "Fold: 2, Neighbors: 9, Score: 0.9925925925925926\n",
      "Fold: 2, Neighbors: 10, Score: 0.9849999999999999\n",
      "Fold: 3, Neighbors: 1, Score: 1.0\n",
      "Fold: 3, Neighbors: 2, Score: 0.0\n",
      "Fold: 3, Neighbors: 3, Score: 0.0\n",
      "Fold: 3, Neighbors: 4, Score: 0.0\n",
      "Fold: 3, Neighbors: 5, Score: 0.0\n",
      "Fold: 3, Neighbors: 6, Score: 0.0\n",
      "Fold: 3, Neighbors: 7, Score: 0.0\n",
      "Fold: 3, Neighbors: 8, Score: 0.0\n",
      "Fold: 3, Neighbors: 9, Score: 0.0\n",
      "Fold: 3, Neighbors: 10, Score: 0.0\n",
      "Fold: 4, Neighbors: 1, Score: 0.85\n",
      "Fold: 4, Neighbors: 2, Score: 0.85\n",
      "Fold: 4, Neighbors: 3, Score: 0.8333333333333331\n",
      "Fold: 4, Neighbors: 4, Score: 0.840625\n",
      "Fold: 4, Neighbors: 5, Score: 0.826\n",
      "Fold: 4, Neighbors: 6, Score: 0.8333333333333331\n",
      "Fold: 4, Neighbors: 7, Score: 0.8622448979591837\n",
      "Fold: 4, Neighbors: 8, Score: 0.8921874999999999\n",
      "Fold: 4, Neighbors: 9, Score: 0.8962962962962961\n",
      "Fold: 4, Neighbors: 10, Score: 0.8755\n",
      "Fold: 5, Neighbors: 1, Score: 1.0\n",
      "Fold: 5, Neighbors: 2, Score: 1.0\n",
      "Fold: 5, Neighbors: 3, Score: 1.0\n",
      "Fold: 5, Neighbors: 4, Score: 1.0\n",
      "Fold: 5, Neighbors: 5, Score: 1.0\n",
      "Fold: 5, Neighbors: 6, Score: 1.0\n",
      "Fold: 5, Neighbors: 7, Score: 0.0\n",
      "Fold: 5, Neighbors: 8, Score: 0.0\n",
      "Fold: 5, Neighbors: 9, Score: 0.0\n",
      "Fold: 5, Neighbors: 10, Score: 0.0\n"
     ]
    }
   ],
   "source": [
    "from sklearn.neighbors import KNeighborsRegressor\n",
    "from sklearn.preprocessing import StandardScaler\n",
    "from sklearn.model_selection import KFold\n",
    "from sklearn import datasets\n",
    "import numpy as np\n",
    "import matplotlib.pyplot as plt\n",
    "import pandas as pd\n",
    "from sklearn.decomposition import PCA\n",
    "\n",
    "iris = datasets.load_iris()\n",
    "x = pd.DataFrame(iris.data, columns=iris.feature_names)\n",
    "y = pd.DataFrame(iris.target, columns = [\"species\"],dtype='category')\n",
    "\n",
    "scaler = StandardScaler()\n",
    "# scaler\n",
    "x_scaled = scaler.fit_transform(x)\n",
    "\n",
    "pca = PCA(n_components=2,random_state=0)\n",
    "pCs = pca.fit_transform(x_scaled)\n",
    "\n",
    "x_scaled = pd.DataFrame(data = pCs, columns = ['PC 1', 'PC 2'])\n",
    "x_scaled = pd.concat([x_scaled, y], axis = 1 )\n",
    "\n",
    "kf = KFold(n_splits=5)\n",
    "kf.get_n_splits(x)\n",
    "\n",
    "run = 1\n",
    "for train_index, test_index in kf.split(x):\n",
    "    x_train = x_scaled.iloc[train_index,:] \n",
    "    y_train = y.iloc[train_index,:]\n",
    "    x_test = x_scaled.iloc[test_index,:]\n",
    "    y_test = y.iloc[test_index,:]\n",
    "    \n",
    "    for K in range(1,11):\n",
    "        kNR = KNeighborsRegressor(n_neighbors = K)\n",
    "        kNR.fit(x_train, y_train)\n",
    "#         prediction = kNR.predict(x_test)\n",
    "        score = kNR.score(x_test,y_test)\n",
    "        print(\"Fold: %s, Neighbors: %s, Score: %s\" % (run, K, score))\n",
    "\n",
    "    run += 1\n"
   ]
  },
  {
   "cell_type": "code",
   "execution_count": null,
   "metadata": {},
   "outputs": [],
   "source": []
  }
 ],
 "metadata": {
  "kernelspec": {
   "display_name": "Python 3",
   "language": "python",
   "name": "python3"
  },
  "language_info": {
   "codemirror_mode": {
    "name": "ipython",
    "version": 3
   },
   "file_extension": ".py",
   "mimetype": "text/x-python",
   "name": "python",
   "nbconvert_exporter": "python",
   "pygments_lexer": "ipython3",
   "version": "3.7.3"
  }
 },
 "nbformat": 4,
 "nbformat_minor": 2
}
