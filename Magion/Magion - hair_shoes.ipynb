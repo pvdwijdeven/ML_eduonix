{
 "cells": [
  {
   "cell_type": "code",
   "execution_count": 1,
   "metadata": {},
   "outputs": [
    {
     "name": "stdout",
     "output_type": "stream",
     "text": [
      "     Name  HairYN  ShoeSize  PIMember\n",
      "0  Pascal       0        43         0\n",
      "1   Frits       1        44         1\n",
      "2    RobV       1        42         0\n",
      "3  Mischa       1        42         0\n",
      "4   Peter       1        41         1\n",
      "5   RobvG       1        44         0\n",
      "6  Manuel       1        43         0\n"
     ]
    },
    {
     "data": {
      "text/html": [
       "<img src=\"tree.png?198948042\">"
      ],
      "text/plain": [
       "<IPython.core.display.HTML object>"
      ]
     },
     "metadata": {},
     "output_type": "display_data"
    }
   ],
   "source": [
    "\n",
    "from sklearn.ensemble import RandomForestClassifier\n",
    "import numpy as np\n",
    "import pandas as pd\n",
    "import matplotlib.pyplot as plt\n",
    "from subprocess import call\n",
    "from sklearn.tree import export_graphviz\n",
    "import matplotlib.pyplot as plt\n",
    "import matplotlib.image as mpimg\n",
    "import random\n",
    "np.random.seed(seed=10)\n",
    "\n",
    "mydata = pd.read_csv('pi1.csv');\n",
    "\n",
    "print(mydata)\n",
    "\n",
    "X=mydata[['HairYN','ShoeSize']]\n",
    "Y=mydata['PIMember']\n",
    "\n",
    "model = RandomForestClassifier(n_estimators=100,random_state=0,min_samples_split =2)\n",
    "model.fit(X,Y)\n",
    "\n",
    "estimator = model.estimators_[5]\n",
    "\n",
    "# ## Visualize this graph\n",
    "# # Export as dot file\n",
    "export_graphviz(estimator, out_file='tree.dot', \n",
    "                feature_names =['HairYN','ShoeSize'],\n",
    "                class_names = ['Other','Production Intelligence'],\n",
    "                rounded = True, impurity  = False, \n",
    "                precision = 2, filled = True)\n",
    "\n",
    "# # # Convert to png using system command (requires Graphviz)\n",
    "call(['C:\\\\Users\\\\Gebruiker\\\\Anaconda3\\\\pkgs\\\\graphviz-2.38-hfd603c8_2\\\\Library\\\\bin\\\\graphviz\\\\dot.exe', '-Tpng', 'tree.dot', '-o', 'tree.png'])\n",
    "\n",
    "from IPython.display import HTML, display\n",
    "display(HTML('<img src=\"tree.png?%d\">' % random.randint(0,2e9)))"
   ]
  },
  {
   "cell_type": "code",
   "execution_count": 2,
   "metadata": {},
   "outputs": [
    {
     "name": "stdout",
     "output_type": "stream",
     "text": [
      "     Name  HairP  ShoeSize  PIMember\n",
      "0  Pascal      0        43         0\n",
      "1   Frits    100        44         1\n",
      "2    RobV     15        42         0\n",
      "3  Mischa    100        42         0\n",
      "4   Peter     90        41         1\n",
      "5   RobvG     25        44         0\n",
      "6  Manuel    100        43         0\n"
     ]
    },
    {
     "data": {
      "text/html": [
       "<img src=\"tree.png?190256900\">"
      ],
      "text/plain": [
       "<IPython.core.display.HTML object>"
      ]
     },
     "metadata": {},
     "output_type": "display_data"
    }
   ],
   "source": [
    "\n",
    "from sklearn.ensemble import RandomForestClassifier\n",
    "import numpy as np\n",
    "import pandas as pd\n",
    "import matplotlib.pyplot as plt\n",
    "from subprocess import call\n",
    "from sklearn.tree import export_graphviz\n",
    "import matplotlib.pyplot as plt\n",
    "import matplotlib.image as mpimg\n",
    "import random\n",
    "\n",
    "\n",
    "mydata = pd.read_csv('pi2.csv');\n",
    "\n",
    "print(mydata)\n",
    "\n",
    "X=mydata[['HairP','ShoeSize']]\n",
    "Y=mydata['PIMember']\n",
    "\n",
    "model = RandomForestClassifier(n_estimators=100,random_state=0,min_samples_split =2)\n",
    "model.fit(X,Y)\n",
    "\n",
    "estimator = model.estimators_[1]\n",
    "\n",
    "# ## Visualize this graph\n",
    "# # Export as dot file\n",
    "export_graphviz(estimator, out_file='tree.dot', \n",
    "                feature_names =['HairP','ShoeSize'],\n",
    "                class_names = ['Other','Production Intelligence'],\n",
    "                rounded = True, impurity  = False, \n",
    "                precision = 2, filled = True)\n",
    "\n",
    "# # # Convert to png using system command (requires Graphviz)\n",
    "call(['C:\\\\Users\\\\Gebruiker\\\\Anaconda3\\\\pkgs\\\\graphviz-2.38-hfd603c8_2\\\\Library\\\\bin\\\\graphviz\\\\dot.exe', '-Tpng', 'tree.dot', '-o', 'tree.png'])\n",
    "\n",
    "from IPython.display import HTML, display\n",
    "display(HTML('<img src=\"tree.png?%d\">' % random.randint(0,2e9)))"
   ]
  },
  {
   "cell_type": "code",
   "execution_count": null,
   "metadata": {},
   "outputs": [],
   "source": []
  }
 ],
 "metadata": {
  "kernelspec": {
   "display_name": "Python 3",
   "language": "python",
   "name": "python3"
  },
  "language_info": {
   "codemirror_mode": {
    "name": "ipython",
    "version": 3
   },
   "file_extension": ".py",
   "mimetype": "text/x-python",
   "name": "python",
   "nbconvert_exporter": "python",
   "pygments_lexer": "ipython3",
   "version": "3.7.3"
  }
 },
 "nbformat": 4,
 "nbformat_minor": 2
}
