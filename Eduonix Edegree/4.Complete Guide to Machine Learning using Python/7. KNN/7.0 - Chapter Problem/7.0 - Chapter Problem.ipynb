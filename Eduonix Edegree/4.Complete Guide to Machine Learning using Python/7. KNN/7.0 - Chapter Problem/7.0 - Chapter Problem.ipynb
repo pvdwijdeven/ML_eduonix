{
 "cells": [
  {
   "cell_type": "code",
   "execution_count": 2,
   "metadata": {},
   "outputs": [
    {
     "name": "stdout",
     "output_type": "stream",
     "text": [
      "[-0.19703596 -0.48852205 -0.07160984 -0.43654436 -0.21677217 -0.44448154\n",
      " -0.34390613  0.07746673 -0.14265556 -0.27024629]\n"
     ]
    }
   ],
   "source": [
    "from sklearn.neighbors import KNeighborsRegressor\n",
    "from sklearn.model_selection import KFold, cross_val_score\n",
    "from sklearn import datasets\n",
    "import numpy as np\n",
    "\n",
    "## Supervised regression has a different type of training label (y). \n",
    "## Rather than a label representing a particular class, labels in regressors represent an output value ()\n",
    "\n",
    "dia = datasets.load_diabetes()\n",
    "\n",
    "X = dia.data[:, :2]\n",
    "y = dia.target\n",
    "#print(dia)\n",
    "\n",
    "knn = KNeighborsRegressor(n_neighbors=3, algorithm='auto',weights='uniform', p=1)\n",
    "k_fold = KFold(n_splits=10, shuffle=True)\n",
    "\n",
    "results = cross_val_score(knn, X, y, cv=k_fold)\n",
    "print(results)\n",
    "\n",
    "\n"
   ]
  },
  {
   "cell_type": "code",
   "execution_count": null,
   "metadata": {},
   "outputs": [],
   "source": []
  }
 ],
 "metadata": {
  "kernelspec": {
   "display_name": "Python 3",
   "language": "python",
   "name": "python3"
  },
  "language_info": {
   "codemirror_mode": {
    "name": "ipython",
    "version": 3
   },
   "file_extension": ".py",
   "mimetype": "text/x-python",
   "name": "python",
   "nbconvert_exporter": "python",
   "pygments_lexer": "ipython3",
   "version": "3.7.3"
  }
 },
 "nbformat": 4,
 "nbformat_minor": 2
}
