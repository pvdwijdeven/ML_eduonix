{
 "cells": [
  {
   "cell_type": "code",
   "execution_count": 57,
   "metadata": {},
   "outputs": [],
   "source": [
    "def parse_funny_count(reviews):\n",
    "    srev = str(reviews)\n",
    "    loc1 = srev.find('Funny')\n",
    "    if loc1 <=0:\n",
    "        return 0\n",
    "    else:\n",
    "        loc2 = srev.find('}',loc1)\n",
    "        return int(srev[loc1+17:loc2])"
   ]
  },
  {
   "cell_type": "code",
   "execution_count": 58,
   "metadata": {},
   "outputs": [
    {
     "name": "stdout",
     "output_type": "stream",
     "text": [
      "19645\n",
      "938\n",
      "390\n",
      "0\n",
      "4166\n",
      "0\n",
      "0\n",
      "1102\n",
      "7731\n",
      "0\n"
     ]
    }
   ],
   "source": [
    "from sqlalchemy import create_engine\n",
    "import pandas as pd\n",
    "\n",
    "engine = create_engine('sqlite:///chinook.db', echo = False)\n",
    "\n",
    "\n",
    "\n",
    "conn = engine.connect()\n",
    "\n",
    "import pandas as pd\n",
    "with open('ted_main.csv', 'r', encoding=\"utf-8\") as file:\n",
    "    data_df = pd.read_csv(file, encoding='utf-8')\n",
    "data_df.to_sql('ted_talk', con=engine, index=True, index_label='id', if_exists='replace')\n",
    "\n",
    "stmt = 'SELECT ratings FROM ted_talk ORDER BY views DESC LIMIT 10'\n",
    "result = conn.execute(stmt).fetchall()\n",
    "for j in result:\n",
    "    x = (parse_funny_count(j))\n",
    "    print (x)"
   ]
  },
  {
   "cell_type": "code",
   "execution_count": null,
   "metadata": {},
   "outputs": [],
   "source": []
  },
  {
   "cell_type": "code",
   "execution_count": null,
   "metadata": {},
   "outputs": [],
   "source": []
  }
 ],
 "metadata": {
  "kernelspec": {
   "display_name": "Python 3",
   "language": "python",
   "name": "python3"
  },
  "language_info": {
   "codemirror_mode": {
    "name": "ipython",
    "version": 3
   },
   "file_extension": ".py",
   "mimetype": "text/x-python",
   "name": "python",
   "nbconvert_exporter": "python",
   "pygments_lexer": "ipython3",
   "version": "3.7.3"
  }
 },
 "nbformat": 4,
 "nbformat_minor": 2
}
