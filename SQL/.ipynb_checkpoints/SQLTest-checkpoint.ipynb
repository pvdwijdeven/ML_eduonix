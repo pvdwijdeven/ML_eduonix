{
 "cells": [
  {
   "cell_type": "code",
   "execution_count": 29,
   "metadata": {},
   "outputs": [
    {
     "name": "stdout",
     "output_type": "stream",
     "text": [
      "[(\"[{'id': 7, 'name': 'Funny', 'count': 19645}, {'id': 1, 'name': 'Beautiful', 'count': 4573}, {'id': 9, 'name': 'Ingenious', 'count': 6073}, {'id': 3,  ... (370 characters truncated) ... unt': 4439}, {'id': 25, 'name': 'OK', 'count': 1174}, {'id': 26, 'name': 'Obnoxious', 'count': 209}, {'id': 10, 'name': 'Inspiring', 'count': 24924}]\",), (\"[{'id': 23, 'name': 'Jaw-dropping', 'count': 3586}, {'id': 8, 'name': 'Informative', 'count': 9787}, {'id': 22, 'name': 'Fascinating', 'count': 11111 ... (367 characters truncated) ... unt': 338}, {'id': 21, 'name': 'Unconvincing', 'count': 335}, {'id': 7, 'name': 'Funny', 'count': 938}, {'id': 2, 'name': 'Confusing', 'count': 197}]\",), (\"[{'id': 21, 'name': 'Unconvincing', 'count': 930}, {'id': 25, 'name': 'OK', 'count': 1341}, {'id': 11, 'name': 'Longwinded', 'count': 390}, {'id': 24 ... (366 characters truncated) ... ount': 1640}, {'id': 3, 'name': 'Courageous', 'count': 1161}, {'id': 2, 'name': 'Confusing', 'count': 112}, {'id': 7, 'name': 'Funny', 'count': 390}]\",), (\"[{'id': 10, 'name': 'Inspiring', 'count': 21444}, {'id': 23, 'name': 'Jaw-dropping', 'count': 2100}, {'id': 1, 'name': 'Beautiful', 'count': 7942}, { ... (366 characters truncated) ... ': 233}, {'id': 2, 'name': 'Confusing', 'count': 155}, {'id': 26, 'name': 'Obnoxious', 'count': 113}, {'id': 11, 'name': 'Longwinded', 'count': 283}]\",), (\"[{'id': 23, 'name': 'Jaw-dropping', 'count': 363}, {'id': 7, 'name': 'Funny', 'count': 4166}, {'id': 3, 'name': 'Courageous', 'count': 519}, {'id': 2 ... (359 characters truncated) ... nt': 154}, {'id': 26, 'name': 'Obnoxious', 'count': 209}, {'id': 1, 'name': 'Beautiful', 'count': 213}, {'id': 2, 'name': 'Confusing', 'count': 110}]\",), (\"[{'id': 24, 'name': 'Persuasive', 'count': 2678}, {'id': 10, 'name': 'Inspiring', 'count': 4133}, {'id': 8, 'name': 'Informative', 'count': 5167}, {' ... (357 characters truncated) ... ': 152}, {'id': 21, 'name': 'Unconvincing', 'count': 153}, {'id': 26, 'name': 'Obnoxious', 'count': 43}, {'id': 2, 'name': 'Confusing', 'count': 49}]\",), (\"[{'id': 22, 'name': 'Fascinating', 'count': 14447}, {'id': 10, 'name': 'Inspiring', 'count': 16918}, {'id': 23, 'name': 'Jaw-dropping', 'count': 1046 ... (367 characters truncated) ... nt': 1228}, {'id': 21, 'name': 'Unconvincing', 'count': 550}, {'id': 25, 'name': 'OK', 'count': 636}, {'id': 11, 'name': 'Longwinded', 'count': 398}]\",), (\"[{'id': 7, 'name': 'Funny', 'count': 1102}, {'id': 3, 'name': 'Courageous', 'count': 721}, {'id': 21, 'name': 'Unconvincing', 'count': 377}, {'id': 2 ... (361 characters truncated) ... unt': 2423}, {'id': 25, 'name': 'OK', 'count': 441}, {'id': 23, 'name': 'Jaw-dropping', 'count': 669}, {'id': 26, 'name': 'Obnoxious', 'count': 335}]\",), (\"[{'id': 7, 'name': 'Funny', 'count': 7731}, {'id': 9, 'name': 'Ingenious', 'count': 1766}, {'id': 22, 'name': 'Fascinating', 'count': 939}, {'id': 8, ... (353 characters truncated) ... unt': 60}, {'id': 10, 'name': 'Inspiring', 'count': 417}, {'id': 24, 'name': 'Persuasive', 'count': 91}, {'id': 2, 'name': 'Confusing', 'count': 20}]\",), (\"[{'id': 11, 'name': 'Longwinded', 'count': 92}, {'id': 2, 'name': 'Confusing', 'count': 124}, {'id': 25, 'name': 'OK', 'count': 612}, {'id': 8, 'name ... (356 characters truncated) ... : 302}, {'id': 26, 'name': 'Obnoxious', 'count': 77}, {'id': 21, 'name': 'Unconvincing', 'count': 231}, {'id': 9, 'name': 'Ingenious', 'count': 101}]\",)]\n"
     ]
    }
   ],
   "source": [
    "from sqlalchemy import create_engine\n",
    "engine = create_engine('sqlite:///chinook.db', echo = False)\n",
    "\n",
    "\n",
    "\n",
    "conn = engine.connect()\n",
    "\n",
    "import pandas as pd\n",
    "with open('ted_main.csv', 'r', encoding=\"utf-8\") as file:\n",
    "    data_df = pd.read_csv(file, encoding='utf-8')\n",
    "data_df.to_sql('ted_talk', con=engine, index=True, index_label='id', if_exists='replace') jk jkl kj lkj lkj lkj lkj lkj lkj lkj l  kl jlk j\n",
    "\n",
    "stmt = 'SELECT ratings FROM ted_talk ORDER BY views DESC LIMIT 10'\n",
    "result = conn.execute(stmt).fetchall()\n",
    "print (result)"
   ]
  },
  {
   "cell_type": "code",
   "execution_count": null,
   "metadata": {},
   "outputs": [],
   "source": []
  },
  {
   "cell_type": "code",
   "execution_count": null,
   "metadata": {},
   "outputs": [],
   "source": []
  }
 ],
 "metadata": {
  "kernelspec": {
   "display_name": "Python 3",
   "language": "python",
   "name": "python3"
  },
  "language_info": {
   "codemirror_mode": {
    "name": "ipython",
    "version": 3
   },
   "file_extension": ".py",
   "mimetype": "text/x-python",
   "name": "python",
   "nbconvert_exporter": "python",
   "pygments_lexer": "ipython3",
   "version": "3.7.3"
  }
 },
 "nbformat": 4,
 "nbformat_minor": 2
}
