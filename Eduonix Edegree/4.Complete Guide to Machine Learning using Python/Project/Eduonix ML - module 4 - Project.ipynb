{
 "cells": [
  {
   "cell_type": "markdown",
   "metadata": {},
   "source": [
    "Project description:\n",
    "- Find a dataset to conduct any form of machine learning we have NOT discussed in class\n",
    "- Using any form of trainin/testing method we have discussed in class\n",
    "- Train the model using appropriate methods and share results.\n",
    "\n",
    "As I already submittd the original project, I will keep this project and make sure it also meets with the requirements above."
   ]
  },
  {
   "cell_type": "markdown",
   "metadata": {},
   "source": [
    "Original project Description:\n",
    "\n",
    "- Download any dataset from Kaggle that contains chat data to conduct natural language processing.\n",
    "- Load 2 tables of CSV data into a SQL database of your choice\n",
    "- Optimize your database by creating indexes and primary keys on appropriate columns\n",
    "- Add a new column of data that has not been included in the csv\n",
    "- Conduct any type of NLP (language detection, sentiment analysis, tokenization, etc.) and add to the database\n",
    "- Connect to database from Python, select some columns database and produce a visualization/analysis of it."
   ]
  },
  {
   "cell_type": "markdown",
   "metadata": {},
   "source": [
    "___\n",
    "**Important note**: Although I had several questions regarding the project description (email sent to eduonix support - ticket 5623271728) and had some doubt about the use of SQL for this specific ML course, I still tried to finalize the project, resulting in the elaboration below."
   ]
  },
  {
   "cell_type": "markdown",
   "metadata": {},
   "source": [
    "___\n",
    "<span style=\"color:green\">**1. Download any dataset from Kaggle that contains chat data to conduct natural language processing.**</span>\n",
    "\n",
    "For the dataset I choose for the Teld talks set, as can be found on Kaggle:\n",
    "https://www.kaggle.com/rounakbanik/ted-talks\n",
    "\n",
    "Goal is to match the highest rated category with NLP analysis on the transcripts."
   ]
  },
  {
   "cell_type": "markdown",
   "metadata": {},
   "source": [
    "___\n",
    "<span style=\"color:green\">**2. Load 2 tables of CSV data into a SQL database of your choice**</span>\n",
    "\n",
    "Both ted_main.csv and transcripts.csv will be loaded into a sqlite database using sqlalchemy"
   ]
  },
  {
   "cell_type": "code",
   "execution_count": 1,
   "metadata": {},
   "outputs": [],
   "source": [
    "import matplotlib\n",
    "import matplotlib.pyplot as plt\n",
    "from sqlalchemy import Table, MetaData, create_engine\n",
    "from sqlalchemy.engine import reflection\n",
    "import pandas as pd\n",
    "from termcolor import colored\n",
    "from sklearn.model_selection import train_test_split\n",
    "from sklearn.naive_bayes import MultinomialNB\n",
    "from sklearn.ensemble import AdaBoostClassifier\n",
    "from sklearn.feature_extraction.text import CountVectorizer\n",
    "from sklearn.feature_extraction.text import TfidfTransformer\n",
    "from sklearn.metrics import accuracy_score\n",
    "import datetime\n",
    "\n",
    "%matplotlib inline"
   ]
  },
  {
   "cell_type": "code",
   "execution_count": 2,
   "metadata": {},
   "outputs": [],
   "source": [
    "engine = create_engine('sqlite:///tedtalk.db', echo=False)\n",
    "conn = engine.connect()"
   ]
  },
  {
   "cell_type": "code",
   "execution_count": 3,
   "metadata": {},
   "outputs": [
    {
     "name": "stdout",
     "output_type": "stream",
     "text": [
      "\u001b[34mtables:\n",
      "\u001b[0m ['ted_main', 'transcripts'] \n",
      "\n",
      "\u001b[34m1st line table ted_main:\n",
      "\u001b[0m [(4553, 'Sir Ken Robinson makes an entertaining and profoundly moving case for creating an education system that nurtures (rather than undermines) creativity.', 1164, 'TED2006', 1140825600, 60, 'Ken Robinson', 'Ken Robinson: Do schools kill creativity?', 1, 1151367060, \"[{'id': 7, 'name': 'Funny', 'count': 19645}, {'id': 1, 'name': 'Beautiful', 'count': 4573}, {'id': 9, 'name': 'Ingenious', 'count': 6073}, {'id': 3,  ... (370 characters truncated) ... unt': 4439}, {'id': 25, 'name': 'OK', 'count': 1174}, {'id': 26, 'name': 'Obnoxious', 'count': 209}, {'id': 10, 'name': 'Inspiring', 'count': 24924}]\", '[{\\'id\\': 865, \\'hero\\': \\'https://pe.tedcdn.com/images/ted/172559_800x600.jpg\\', \\'speaker\\': \\'Ken Robinson\\', \\'title\\': \\'Bring on the learning r ... (1597 characters truncated) ... keep kids in poverty\", \\'duration\\': 830, \\'slug\\': \\'kandice_sumner_how_america_s_public_schools_keep_kids_in_poverty\\', \\'viewed_count\\': 1181333}]', 'Author/educator', \"['children', 'creativity', 'culture', 'dance', 'education', 'parenting', 'teaching']\", 'Do schools kill creativity?', 'https://www.ted.com/talks/ken_robinson_says_schools_kill_creativity\\n', 47227110)] \n",
      "\n",
      "\u001b[34m1st line table transcripts:\n",
      "\u001b[0m [('Good morning. How are you?(Laughter)It\\'s been great, hasn\\'t it? I\\'ve been blown away by the whole thing. In fact, I\\'m leaving.(Laughter)There hav ... (17244 characters truncated) ...  this future. By the way — we may not see this future, but they will. And our job is to help them make something of it.Thank you very much.(Applause)', 'https://www.ted.com/talks/ken_robinson_says_schools_kill_creativity\\n')] \n",
      "\n"
     ]
    }
   ],
   "source": [
    "with open('ted_main.csv', 'r', encoding=\"utf-8\") as file:\n",
    "    data_df = pd.read_csv(file, encoding='utf-8')\n",
    "data_df.to_sql('ted_main', con=engine, index=False, if_exists='replace')\n",
    "\n",
    "with open('transcripts_unique.csv', 'r', encoding=\"utf-8\") as file:\n",
    "    data_df = pd.read_csv(file, encoding='utf-8')\n",
    "data_df.to_sql('transcripts', con=engine, index=False, if_exists='replace')\n",
    "\n",
    "# check if tables are loaded indeed\n",
    "print(colored('tables:\\n', 'blue'), engine.table_names(), '\\n')\n",
    "\n",
    "# check first line of ted_main\n",
    "sql_text = 'SELECT * FROM ted_main LIMIT 1'\n",
    "result = conn.execute(sql_text).fetchall()\n",
    "print(colored('1st line table ted_main:\\n', 'blue'), result, '\\n')\n",
    "\n",
    "# check first line of transcripts\n",
    "sql_text = 'SELECT * FROM transcripts LIMIT 1'\n",
    "result = conn.execute(sql_text).fetchall()\n",
    "print(colored('1st line table transcripts:\\n', 'blue'), result, '\\n')"
   ]
  },
  {
   "cell_type": "markdown",
   "metadata": {},
   "source": [
    "___\n",
    "<span style=\"color:green\">**3. Optimize your database by creating indexes and primary keys on appropriate columns**</span>\n",
    "\n",
    "As the ted talk URL is unique and also available in both tables (it defines the join), these will be the primary keys. I don't see any need to index any other columns than the primary keys.\n",
    "\n",
    "Unfortunately sqlite only allows added primary key on creating table, so I have to copy the contents to a new table."
   ]
  },
  {
   "cell_type": "markdown",
   "metadata": {},
   "source": [
    "During this exercise it appeared that 3 shows where duplicated in the transcripts, preventing unique keys. The following duplicates have been removed from the original __*transcripts.csv*__:\n",
    "- brene_brown_listening_to_shame\n",
    "- jonathan_haidt_humanity_s_stairway_to_self_transcendence\n",
    "- rob_reid_the_8_billion_ipod\n",
    "\n",
    "The result has been saved to the file __*transcripts_unique.csv*__ and can be found [here](https://github.com/pvdwijdeven/ML_eduonix/blob/master/Eduonix%20Edegree/4.Complete%20Guide%20to%20Machine%20Learning%20using%20Python/Project/transcripts_unique.csv)"
   ]
  },
  {
   "cell_type": "code",
   "execution_count": 4,
   "metadata": {},
   "outputs": [
    {
     "name": "stdout",
     "output_type": "stream",
     "text": [
      "\u001b[34mPrimary key of table ted_main:\n",
      "\u001b[0m url \n",
      "\n",
      "\u001b[34mIndex of table ted_main:\u001b[0m\n",
      "{'name': 'url_index1', 'column_names': ['url'], 'unique': 0}\n",
      "\u001b[34mPrimary key of table transcripts:\n",
      "\u001b[0m url \n",
      "\n",
      "\u001b[34mIndex of table transcripts:\u001b[0m\n",
      "{'name': 'url_index2', 'column_names': ['url'], 'unique': 0}\n"
     ]
    }
   ],
   "source": [
    "sql_text = 'ALTER TABLE ted_main RENAME TO ted_main_old;'\n",
    "conn.execute(sql_text)\n",
    "sql_text = 'CREATE TABLE ted_main ('\n",
    "sql_text += '    comments           BIGINT,'\n",
    "sql_text += '    description        TEXT,'\n",
    "sql_text += '    duration           BIGINT,'\n",
    "sql_text += '    event              TEXT,'\n",
    "sql_text += '    film_date          BIGINT,'\n",
    "sql_text += '    languages          BIGINT,'\n",
    "sql_text += '    main_speaker       TEXT,'\n",
    "sql_text += '    name               TEXT,'\n",
    "sql_text += '    num_speaker        BIGINT,'\n",
    "sql_text += '    published_date     BIGINT,'\n",
    "sql_text += '    ratings            TEXT,'\n",
    "sql_text += '    related_talks      TEXT,'\n",
    "sql_text += '    speaker_occupation TEXT,'\n",
    "sql_text += '    tags               TEXT,'\n",
    "sql_text += '    title              TEXT,'\n",
    "sql_text += '    url                TEXT   PRIMARY KEY,'\n",
    "sql_text += '    views              BIGINT'\n",
    "sql_text += ');'\n",
    "conn.execute(sql_text)\n",
    "sql_text = 'INSERT INTO ted_main SELECT * FROM ted_main_old;'\n",
    "conn.execute(sql_text)\n",
    "sql_text = 'DROP TABLE ted_main_old'\n",
    "conn.execute(sql_text)\n",
    "sql_text = 'CREATE INDEX url_index1 ON ted_main (url)'\n",
    "conn.execute(sql_text)\n",
    "\n",
    "meta = MetaData()\n",
    "table = Table('ted_main', meta, autoload=True, autoload_with=engine)\n",
    "result = table.primary_key.columns.values()[0].name\n",
    "print(colored('Primary key of table ted_main:\\n', 'blue'), result, '\\n')\n",
    "\n",
    "insp = reflection.Inspector.from_engine(engine)\n",
    "print(colored('Index of table ted_main:', 'blue'))\n",
    "for index in insp.get_indexes('ted_main'):\n",
    "    print(index)\n",
    "\n",
    "sql_text = 'ALTER TABLE transcripts RENAME TO transcripts_old;'\n",
    "conn.execute(sql_text)\n",
    "sql_text = 'CREATE TABLE transcripts ('\n",
    "sql_text += '    transcript TEXT,'\n",
    "sql_text += '    url        TEXT PRIMARY KEY'\n",
    "sql_text += ');'\n",
    "conn.execute(sql_text)\n",
    "sql_text = 'INSERT INTO transcripts SELECT * FROM transcripts_old WHERE url LIKE \"http%\";'\n",
    "conn.execute(sql_text)\n",
    "sql_text = 'DROP TABLE transcripts_old'\n",
    "conn.execute(sql_text)\n",
    "sql_text = 'CREATE INDEX url_index2 ON transcripts (url)'\n",
    "conn.execute(sql_text)\n",
    "\n",
    "table = Table('transcripts', meta, autoload=True, autoload_with=engine)\n",
    "result = table.primary_key.columns.values()[0].name\n",
    "print(colored('Primary key of table transcripts:\\n', 'blue'), result, '\\n')\n",
    "\n",
    "insp = reflection.Inspector.from_engine(engine)\n",
    "print(colored('Index of table transcripts:', 'blue'))\n",
    "for index in insp.get_indexes('transcripts'):\n",
    "    print(index)"
   ]
  },
  {
   "cell_type": "markdown",
   "metadata": {},
   "source": [
    "___\n",
    "<span style=\"color:green\">**4.Add a new column of data that has not been included in the csv**</span>\n",
    "\n",
    "Here I have chosen to create a category out of the review column. The category with the highest counts in the reviews column is being assigned."
   ]
  },
  {
   "cell_type": "code",
   "execution_count": 5,
   "metadata": {},
   "outputs": [
    {
     "name": "stdout",
     "output_type": "stream",
     "text": [
      "\u001b[34mColumn \"category\" added\u001b[0m\n"
     ]
    }
   ],
   "source": [
    "# Adding the column\n",
    "sql_text = \"ALTER TABLE ted_main ADD category TEXT;\"\n",
    "result = conn.execute(sql_text)\n",
    "print(colored('Column \"category\" added', 'blue'))"
   ]
  },
  {
   "cell_type": "code",
   "execution_count": 6,
   "metadata": {},
   "outputs": [
    {
     "name": "stdout",
     "output_type": "stream",
     "text": [
      "\u001b[34mUpdated 2550 rows\u001b[0m\n",
      "\u001b[34m\n",
      "List of all most counted categories:\u001b[0m\n",
      "Courageous\n",
      "Unconvincing\n",
      "Ingenious\n",
      "Longwinded\n",
      "Confusing\n",
      "Fascinating\n",
      "Funny\n",
      "Obnoxious\n",
      "Persuasive\n",
      "Informative\n",
      "Jaw-dropping\n",
      "OK\n",
      "Beautiful\n",
      "Inspiring\n"
     ]
    }
   ],
   "source": [
    "def max_count(reviews):\n",
    "    reviews = reviews[2:-2]\n",
    "    l_reviews = reviews.split(\"}, {\")\n",
    "    max = 0\n",
    "    category = \"DUMMY\"\n",
    "    for review in l_reviews:\n",
    "        detail = review.split(\",\")\n",
    "        count = int(detail[2][detail[2].find(':') + 2:])\n",
    "        if count > max:\n",
    "            category = detail[1][detail[1].find(':') + 2:]\n",
    "            max = count\n",
    "    return category\n",
    "\n",
    "\n",
    "counter = 0\n",
    "sql_text = 'SELECT url, ratings FROM ted_main'\n",
    "result = conn.execute(sql_text).fetchall()\n",
    "for row in result:\n",
    "    cat = max_count(row[1])\n",
    "    sql_text = \"UPDATE ted_main SET category = \" \\\n",
    "               + cat + \" WHERE url = '\" + row[0] + \"';\"\n",
    "    conn.execute(sql_text)\n",
    "    counter += 1\n",
    "print(colored('Updated ' + str(counter) + ' rows', 'blue'))\n",
    "\n",
    "sql_text = 'SELECT category FROM ted_main'\n",
    "result = conn.execute(sql_text).fetchall()\n",
    "print(colored('\\nList of all most counted categories:', 'blue'))\n",
    "\n",
    "category_set = set()\n",
    "for category in result:\n",
    "    category_set.add(category.values()[0])\n",
    "for category in category_set:\n",
    "    print(category)"
   ]
  },
  {
   "cell_type": "markdown",
   "metadata": {},
   "source": [
    "___\n",
    "<span style=\"color:green\">**5.Conduct any type of NLP (language detection, sentiment analysis, tokenization, etc.) and add to the database**</span>\n",
    "\n",
    "First the query is read into a dataframe and split into a test/train set. Then a vectorizer is being used (with remal of the stopwords), followed by a TFIDF transformation. An ADABoost with a multinomial Naive Bains as base is being used to train the model."
   ]
  },
  {
   "cell_type": "code",
   "execution_count": 7,
   "metadata": {},
   "outputs": [
    {
     "name": "stdout",
     "output_type": "stream",
     "text": [
      "\u001b[34mAccuracy score:\u001b[0m\n",
      "0.59026369168357\n"
     ]
    }
   ],
   "source": [
    "sql_text = \"SELECT ted_main.category, transcripts.transcript FROM ted_main \" \\\n",
    "    + \"INNER JOIN transcripts ON ted_main.url = transcripts.url;\"\n",
    "dataset = pd.read_sql_query(sql_text, conn)\n",
    "train, test = train_test_split(dataset, test_size=0.2, random_state=0)\n",
    "\n",
    "count_vect = CountVectorizer(stop_words='english')\n",
    "\n",
    "X_train_counts = count_vect.fit_transform(\n",
    "    train.transcript)  # X_train_counts.shape\n",
    "\n",
    "tf_transformer = TfidfTransformer(use_idf=False).fit(X_train_counts)\n",
    "X_train_tfidf = tf_transformer.transform(X_train_counts)\n",
    "\n",
    "model = AdaBoostClassifier(base_estimator=MultinomialNB(alpha=0.0025))\n",
    "model.fit(X_train_tfidf, train.category)\n",
    "\n",
    "X_test_counts = count_vect.transform(test.transcript)\n",
    "X_test_tfidf = tf_transformer.transform(X_test_counts)\n",
    "predicted = model.predict(X_test_tfidf)\n",
    "print(colored('Accuracy score:', 'blue'))\n",
    "print(accuracy_score(test.category, predicted))"
   ]
  },
  {
   "cell_type": "markdown",
   "metadata": {},
   "source": [
    "The accuracy score is around **59%**, which seems not too bad. This might very well be due to the fact that the categories e.g. \"inspirational\", \"funny\", \"informative\", \"confusing\" are not only based on single words, but also actual content and of course the way the presentation is being held.\n",
    "\n",
    "Optimization of the algorithm has been done by changing the alpha factor and removing the stop-words.\n",
    "\n",
    "The results of the predictions vs actuals can be found below:"
   ]
  },
  {
   "cell_type": "code",
   "execution_count": 8,
   "metadata": {},
   "outputs": [
    {
     "name": "stdout",
     "output_type": "stream",
     "text": [
      "\u001b[31mFascinating         Ingenious\u001b[0m\n",
      "\u001b[32mFascinating         Fascinating\u001b[0m\n",
      "\u001b[31mInspiring           Fascinating\u001b[0m\n",
      "\u001b[32mInformative         Informative\u001b[0m\n",
      "\u001b[31mPersuasive          Inspiring\u001b[0m\n",
      "\u001b[31mInformative         Inspiring\u001b[0m\n",
      "\u001b[32mInformative         Informative\u001b[0m\n",
      "\u001b[32mFascinating         Fascinating\u001b[0m\n",
      "\u001b[32mFunny               Funny\u001b[0m\n",
      "\u001b[32mInspiring           Inspiring\u001b[0m\n",
      "\u001b[31mBeautiful           Inspiring\u001b[0m\n",
      "\u001b[31mInspiring           Informative\u001b[0m\n",
      "\u001b[32mBeautiful           Beautiful\u001b[0m\n",
      "\u001b[32mInformative         Informative\u001b[0m\n",
      "\u001b[32mInformative         Informative\u001b[0m\n",
      "\u001b[31mJaw-dropping        Inspiring\u001b[0m\n",
      "\u001b[32mInspiring           Inspiring\u001b[0m\n",
      "\u001b[31mInformative         Inspiring\u001b[0m\n",
      "\u001b[32mInformative         Informative\u001b[0m\n",
      "\u001b[32mInformative         Informative\u001b[0m\n",
      "\u001b[32mInspiring           Inspiring\u001b[0m\n",
      "\u001b[32mInformative         Informative\u001b[0m\n",
      "\u001b[32mBeautiful           Beautiful\u001b[0m\n",
      "\u001b[32mInspiring           Inspiring\u001b[0m\n",
      "\u001b[31mFunny               Informative\u001b[0m\n",
      "\u001b[32mFunny               Funny\u001b[0m\n",
      "\u001b[31mFunny               Informative\u001b[0m\n",
      "\u001b[32mInformative         Informative\u001b[0m\n",
      "\u001b[32mInformative         Informative\u001b[0m\n",
      "\u001b[32mInspiring           Inspiring\u001b[0m\n",
      "\u001b[32mInspiring           Inspiring\u001b[0m\n",
      "\u001b[32mInspiring           Inspiring\u001b[0m\n",
      "\u001b[32mInformative         Informative\u001b[0m\n",
      "\u001b[32mFascinating         Fascinating\u001b[0m\n",
      "\u001b[31mFascinating         Inspiring\u001b[0m\n",
      "\u001b[31mInspiring           Beautiful\u001b[0m\n",
      "\u001b[31mFascinating         Informative\u001b[0m\n",
      "\u001b[32mInspiring           Inspiring\u001b[0m\n",
      "\u001b[31mInformative         Inspiring\u001b[0m\n",
      "\u001b[32mInformative         Informative\u001b[0m\n",
      "\u001b[32mJaw-dropping        Jaw-dropping\u001b[0m\n",
      "\u001b[32mInspiring           Inspiring\u001b[0m\n",
      "\u001b[32mInspiring           Inspiring\u001b[0m\n",
      "\u001b[31mPersuasive          Informative\u001b[0m\n",
      "\u001b[32mInformative         Informative\u001b[0m\n",
      "\u001b[32mInspiring           Inspiring\u001b[0m\n",
      "\u001b[31mPersuasive          Inspiring\u001b[0m\n",
      "\u001b[32mInspiring           Inspiring\u001b[0m\n",
      "\u001b[32mInspiring           Inspiring\u001b[0m\n",
      "\u001b[32mFunny               Funny\u001b[0m\n",
      "\u001b[31mInspiring           Informative\u001b[0m\n",
      "\u001b[32mInformative         Informative\u001b[0m\n",
      "\u001b[31mInspiring           Informative\u001b[0m\n",
      "\u001b[32mInformative         Informative\u001b[0m\n",
      "\u001b[32mInformative         Informative\u001b[0m\n",
      "\u001b[31mFunny               Inspiring\u001b[0m\n",
      "\u001b[31mFunny               Inspiring\u001b[0m\n",
      "\u001b[31mFascinating         Beautiful\u001b[0m\n",
      "\u001b[31mFascinating         Inspiring\u001b[0m\n",
      "\u001b[31mBeautiful           Inspiring\u001b[0m\n",
      "\u001b[31mFascinating         Inspiring\u001b[0m\n",
      "\u001b[32mInspiring           Inspiring\u001b[0m\n",
      "\u001b[31mFascinating         Inspiring\u001b[0m\n",
      "\u001b[32mInformative         Informative\u001b[0m\n",
      "\u001b[32mInspiring           Inspiring\u001b[0m\n",
      "\u001b[32mInformative         Informative\u001b[0m\n",
      "\u001b[31mPersuasive          Informative\u001b[0m\n",
      "\u001b[31mPersuasive          Inspiring\u001b[0m\n",
      "\u001b[31mInspiring           Informative\u001b[0m\n",
      "\u001b[31mCourageous          Inspiring\u001b[0m\n",
      "\u001b[32mInspiring           Inspiring\u001b[0m\n",
      "\u001b[32mInformative         Informative\u001b[0m\n",
      "\u001b[32mInspiring           Inspiring\u001b[0m\n",
      "\u001b[31mInspiring           Informative\u001b[0m\n",
      "\u001b[32mInformative         Informative\u001b[0m\n",
      "\u001b[32mInformative         Informative\u001b[0m\n",
      "\u001b[32mInspiring           Inspiring\u001b[0m\n",
      "\u001b[32mInspiring           Inspiring\u001b[0m\n",
      "\u001b[32mInformative         Informative\u001b[0m\n",
      "\u001b[32mInspiring           Inspiring\u001b[0m\n",
      "\u001b[32mInformative         Informative\u001b[0m\n",
      "\u001b[31mCourageous          Inspiring\u001b[0m\n",
      "\u001b[31mFunny               Informative\u001b[0m\n",
      "\u001b[32mInformative         Informative\u001b[0m\n",
      "\u001b[31mCourageous          Inspiring\u001b[0m\n",
      "\u001b[31mInspiring           Informative\u001b[0m\n",
      "\u001b[31mPersuasive          Informative\u001b[0m\n",
      "\u001b[32mInformative         Informative\u001b[0m\n",
      "\u001b[31mPersuasive          Informative\u001b[0m\n",
      "\u001b[32mBeautiful           Beautiful\u001b[0m\n",
      "\u001b[31mCourageous          Informative\u001b[0m\n",
      "\u001b[31mInspiring           Informative\u001b[0m\n",
      "\u001b[31mFascinating         Jaw-dropping\u001b[0m\n",
      "\u001b[31mInspiring           Informative\u001b[0m\n",
      "\u001b[32mInspiring           Inspiring\u001b[0m\n",
      "\u001b[32mInformative         Informative\u001b[0m\n",
      "\u001b[31mCourageous          Inspiring\u001b[0m\n",
      "\u001b[31mPersuasive          Informative\u001b[0m\n",
      "\u001b[31mFascinating         Informative\u001b[0m\n",
      "\u001b[32mInformative         Informative\u001b[0m\n",
      "\u001b[32mInspiring           Inspiring\u001b[0m\n",
      "\u001b[32mInspiring           Inspiring\u001b[0m\n",
      "\u001b[31mFascinating         Informative\u001b[0m\n",
      "\u001b[32mInspiring           Inspiring\u001b[0m\n",
      "\u001b[32mInspiring           Inspiring\u001b[0m\n",
      "\u001b[32mInspiring           Inspiring\u001b[0m\n",
      "\u001b[32mInspiring           Inspiring\u001b[0m\n",
      "\u001b[32mInspiring           Inspiring\u001b[0m\n",
      "\u001b[31mFascinating         Informative\u001b[0m\n",
      "\u001b[31mIngenious           Informative\u001b[0m\n",
      "\u001b[31mInformative         Fascinating\u001b[0m\n",
      "\u001b[32mInspiring           Inspiring\u001b[0m\n",
      "\u001b[31mInspiring           Informative\u001b[0m\n",
      "\u001b[32mInformative         Informative\u001b[0m\n",
      "\u001b[32mInformative         Informative\u001b[0m\n",
      "\u001b[32mInspiring           Inspiring\u001b[0m\n",
      "\u001b[32mInspiring           Inspiring\u001b[0m\n",
      "\u001b[31mPersuasive          Informative\u001b[0m\n",
      "\u001b[32mInformative         Informative\u001b[0m\n",
      "\u001b[32mFascinating         Fascinating\u001b[0m\n",
      "\u001b[32mInspiring           Inspiring\u001b[0m\n",
      "\u001b[31mInformative         Inspiring\u001b[0m\n",
      "\u001b[32mInformative         Informative\u001b[0m\n",
      "\u001b[31mOK                  Inspiring\u001b[0m\n",
      "\u001b[32mInspiring           Inspiring\u001b[0m\n",
      "\u001b[31mInspiring           Informative\u001b[0m\n",
      "\u001b[31mFunny               Inspiring\u001b[0m\n",
      "\u001b[32mInspiring           Inspiring\u001b[0m\n",
      "\u001b[31mFascinating         Informative\u001b[0m\n",
      "\u001b[32mInspiring           Inspiring\u001b[0m\n",
      "\u001b[31mUnconvincing        Inspiring\u001b[0m\n",
      "\u001b[32mInspiring           Inspiring\u001b[0m\n",
      "\u001b[31mInspiring           Informative\u001b[0m\n",
      "\u001b[31mPersuasive          Informative\u001b[0m\n",
      "\u001b[31mInspiring           Informative\u001b[0m\n",
      "\u001b[31mInspiring           Informative\u001b[0m\n",
      "\u001b[32mFunny               Funny\u001b[0m\n",
      "\u001b[31mCourageous          Inspiring\u001b[0m\n",
      "\u001b[31mInspiring           Informative\u001b[0m\n",
      "\u001b[31mIngenious           Informative\u001b[0m\n",
      "\u001b[32mInformative         Informative\u001b[0m\n",
      "\u001b[32mBeautiful           Beautiful\u001b[0m\n",
      "\u001b[32mInformative         Informative\u001b[0m\n",
      "\u001b[32mInformative         Informative\u001b[0m\n",
      "\u001b[31mUnconvincing        Informative\u001b[0m\n",
      "\u001b[32mBeautiful           Beautiful\u001b[0m\n",
      "\u001b[31mBeautiful           Inspiring\u001b[0m\n",
      "\u001b[32mInspiring           Inspiring\u001b[0m\n",
      "\u001b[32mInspiring           Inspiring\u001b[0m\n",
      "\u001b[32mInspiring           Inspiring\u001b[0m\n",
      "\u001b[31mFascinating         Inspiring\u001b[0m\n",
      "\u001b[31mIngenious           Informative\u001b[0m\n",
      "\u001b[32mInspiring           Inspiring\u001b[0m\n",
      "\u001b[32mInspiring           Inspiring\u001b[0m\n",
      "\u001b[31mFascinating         Informative\u001b[0m\n",
      "\u001b[32mInspiring           Inspiring\u001b[0m\n",
      "\u001b[31mInformative         Inspiring\u001b[0m\n",
      "\u001b[32mInspiring           Inspiring\u001b[0m\n",
      "\u001b[32mInformative         Informative\u001b[0m\n",
      "\u001b[32mFascinating         Fascinating\u001b[0m\n",
      "\u001b[32mFascinating         Fascinating\u001b[0m\n",
      "\u001b[32mInspiring           Inspiring\u001b[0m\n",
      "\u001b[31mInformative         Inspiring\u001b[0m\n",
      "\u001b[32mInformative         Informative\u001b[0m\n",
      "\u001b[32mInspiring           Inspiring\u001b[0m\n",
      "\u001b[31mBeautiful           Fascinating\u001b[0m\n",
      "\u001b[32mInformative         Informative\u001b[0m\n",
      "\u001b[32mInspiring           Inspiring\u001b[0m\n",
      "\u001b[31mBeautiful           Inspiring\u001b[0m\n",
      "\u001b[31mInspiring           Informative\u001b[0m\n",
      "\u001b[31mBeautiful           Fascinating\u001b[0m\n",
      "\u001b[31mObnoxious           Inspiring\u001b[0m\n",
      "\u001b[32mInformative         Informative\u001b[0m\n",
      "\u001b[31mInspiring           Fascinating\u001b[0m\n",
      "\u001b[32mInformative         Informative\u001b[0m\n",
      "\u001b[31mIngenious           Inspiring\u001b[0m\n",
      "\u001b[32mFascinating         Fascinating\u001b[0m\n",
      "\u001b[32mInspiring           Inspiring\u001b[0m\n",
      "\u001b[32mInspiring           Inspiring\u001b[0m\n",
      "\u001b[32mInspiring           Inspiring\u001b[0m\n",
      "\u001b[32mInformative         Informative\u001b[0m\n",
      "\u001b[32mInformative         Informative\u001b[0m\n",
      "\u001b[32mInformative         Informative\u001b[0m\n",
      "\u001b[31mCourageous          Inspiring\u001b[0m\n",
      "\u001b[31mInformative         Inspiring\u001b[0m\n",
      "\u001b[32mInformative         Informative\u001b[0m\n",
      "\u001b[32mInspiring           Inspiring\u001b[0m\n",
      "\u001b[31mFunny               Fascinating\u001b[0m\n",
      "\u001b[32mInspiring           Inspiring\u001b[0m\n",
      "\u001b[31mBeautiful           Inspiring\u001b[0m\n",
      "\u001b[32mInformative         Informative\u001b[0m\n",
      "\u001b[31mBeautiful           Informative\u001b[0m\n",
      "\u001b[32mInspiring           Inspiring\u001b[0m\n",
      "\u001b[31mPersuasive          Inspiring\u001b[0m\n",
      "\u001b[32mInspiring           Inspiring\u001b[0m\n",
      "\u001b[31mFunny               Beautiful\u001b[0m\n",
      "\u001b[32mInspiring           Inspiring\u001b[0m\n",
      "\u001b[31mFunny               Inspiring\u001b[0m\n",
      "\u001b[31mFascinating         Inspiring\u001b[0m\n",
      "\u001b[32mInformative         Informative\u001b[0m\n",
      "\u001b[31mIngenious           Inspiring\u001b[0m\n",
      "\u001b[32mFascinating         Fascinating\u001b[0m\n",
      "\u001b[31mInspiring           Beautiful\u001b[0m\n",
      "\u001b[31mInspiring           Fascinating\u001b[0m\n",
      "\u001b[32mInspiring           Inspiring\u001b[0m\n",
      "\u001b[32mInspiring           Inspiring\u001b[0m\n",
      "\u001b[32mBeautiful           Beautiful\u001b[0m\n",
      "\u001b[31mJaw-dropping        Inspiring\u001b[0m\n",
      "\u001b[31mInformative         Inspiring\u001b[0m\n",
      "\u001b[32mInspiring           Inspiring\u001b[0m\n",
      "\u001b[32mInspiring           Inspiring\u001b[0m\n",
      "\u001b[32mInformative         Informative\u001b[0m\n",
      "\u001b[32mInformative         Informative\u001b[0m\n",
      "\u001b[31mBeautiful           Inspiring\u001b[0m\n",
      "\u001b[31mInformative         Inspiring\u001b[0m\n",
      "\u001b[32mFascinating         Fascinating\u001b[0m\n",
      "\u001b[31mIngenious           Informative\u001b[0m\n",
      "\u001b[32mInspiring           Inspiring\u001b[0m\n",
      "\u001b[31mCourageous          Inspiring\u001b[0m\n",
      "\u001b[32mInformative         Informative\u001b[0m\n",
      "\u001b[31mCourageous          Inspiring\u001b[0m\n",
      "\u001b[31mFascinating         Informative\u001b[0m\n",
      "\u001b[32mFunny               Funny\u001b[0m\n",
      "\u001b[31mFascinating         Inspiring\u001b[0m\n",
      "\u001b[32mInspiring           Inspiring\u001b[0m\n",
      "\u001b[31mIngenious           Inspiring\u001b[0m\n",
      "\u001b[32mInformative         Informative\u001b[0m\n",
      "\u001b[32mInformative         Informative\u001b[0m\n",
      "\u001b[31mInformative         Inspiring\u001b[0m\n",
      "\u001b[31mIngenious           Informative\u001b[0m\n",
      "\u001b[32mInspiring           Inspiring\u001b[0m\n",
      "\u001b[32mInformative         Informative\u001b[0m\n",
      "\u001b[32mInformative         Informative\u001b[0m\n",
      "\u001b[32mInspiring           Inspiring\u001b[0m\n",
      "\u001b[32mInspiring           Inspiring\u001b[0m\n",
      "\u001b[31mPersuasive          Informative\u001b[0m\n",
      "\u001b[31mInspiring           Informative\u001b[0m\n",
      "\u001b[32mInformative         Informative\u001b[0m\n",
      "\u001b[31mInspiring           Informative\u001b[0m\n",
      "\u001b[31mInformative         Inspiring\u001b[0m\n",
      "\u001b[32mInformative         Informative\u001b[0m\n",
      "\u001b[31mIngenious           Informative\u001b[0m\n",
      "\u001b[31mFascinating         Inspiring\u001b[0m\n",
      "\u001b[31mFascinating         Inspiring\u001b[0m\n",
      "\u001b[32mInformative         Informative\u001b[0m\n",
      "\u001b[32mInformative         Informative\u001b[0m\n",
      "\u001b[31mLongwinded          Inspiring\u001b[0m\n",
      "\u001b[32mInformative         Informative\u001b[0m\n",
      "\u001b[31mFascinating         Informative\u001b[0m\n",
      "\u001b[32mInspiring           Inspiring\u001b[0m\n",
      "\u001b[31mFascinating         Inspiring\u001b[0m\n",
      "\u001b[32mFunny               Funny\u001b[0m\n",
      "\u001b[32mInspiring           Inspiring\u001b[0m\n",
      "\u001b[31mFunny               Inspiring\u001b[0m\n",
      "\u001b[31mInspiring           Informative\u001b[0m\n",
      "\u001b[32mInformative         Informative\u001b[0m\n",
      "\u001b[31mPersuasive          Informative\u001b[0m\n",
      "\u001b[32mInformative         Informative\u001b[0m\n",
      "\u001b[31mJaw-dropping        Beautiful\u001b[0m\n",
      "\u001b[31mInformative         Inspiring\u001b[0m\n",
      "\u001b[31mBeautiful           Inspiring\u001b[0m\n",
      "\u001b[32mInspiring           Inspiring\u001b[0m\n",
      "\u001b[31mPersuasive          Informative\u001b[0m\n",
      "\u001b[31mInspiring           Informative\u001b[0m\n",
      "\u001b[32mInformative         Informative\u001b[0m\n",
      "\u001b[31mPersuasive          Inspiring\u001b[0m\n",
      "\u001b[32mFunny               Funny\u001b[0m\n",
      "\u001b[31mBeautiful           Inspiring\u001b[0m\n",
      "\u001b[32mFascinating         Fascinating\u001b[0m\n",
      "\u001b[32mFunny               Funny\u001b[0m\n",
      "\u001b[32mInspiring           Inspiring\u001b[0m\n",
      "\u001b[31mIngenious           Informative\u001b[0m\n",
      "\u001b[31mFascinating         Informative\u001b[0m\n",
      "\u001b[31mInformative         Inspiring\u001b[0m\n",
      "\u001b[31mFunny               Inspiring\u001b[0m\n",
      "\u001b[32mFunny               Funny\u001b[0m\n",
      "\u001b[32mInspiring           Inspiring\u001b[0m\n",
      "\u001b[32mInformative         Informative\u001b[0m\n",
      "\u001b[31mBeautiful           Inspiring\u001b[0m\n",
      "\u001b[31mCourageous          Inspiring\u001b[0m\n",
      "\u001b[32mFunny               Funny\u001b[0m\n",
      "\u001b[32mInspiring           Inspiring\u001b[0m\n",
      "\u001b[32mInspiring           Inspiring\u001b[0m\n",
      "\u001b[32mFascinating         Fascinating\u001b[0m\n",
      "\u001b[32mInspiring           Inspiring\u001b[0m\n",
      "\u001b[32mInspiring           Inspiring\u001b[0m\n",
      "\u001b[32mFascinating         Fascinating\u001b[0m\n",
      "\u001b[32mInformative         Informative\u001b[0m\n",
      "\u001b[32mInformative         Informative\u001b[0m\n",
      "\u001b[32mInformative         Informative\u001b[0m\n",
      "\u001b[32mInspiring           Inspiring\u001b[0m\n",
      "\u001b[31mPersuasive          Informative\u001b[0m\n",
      "\u001b[31mFunny               Inspiring\u001b[0m\n",
      "\u001b[32mInspiring           Inspiring\u001b[0m\n",
      "\u001b[31mPersuasive          Informative\u001b[0m\n",
      "\u001b[31mFascinating         Informative\u001b[0m\n",
      "\u001b[32mInspiring           Inspiring\u001b[0m\n",
      "\u001b[31mFunny               Informative\u001b[0m\n",
      "\u001b[32mInspiring           Inspiring\u001b[0m\n",
      "\u001b[31mFunny               Inspiring\u001b[0m\n",
      "\u001b[32mInspiring           Inspiring\u001b[0m\n",
      "\u001b[32mInspiring           Inspiring\u001b[0m\n",
      "\u001b[31mIngenious           Informative\u001b[0m\n",
      "\u001b[32mFunny               Funny\u001b[0m\n",
      "\u001b[31mJaw-dropping        Funny\u001b[0m\n",
      "\u001b[31mBeautiful           Inspiring\u001b[0m\n",
      "\u001b[32mInspiring           Inspiring\u001b[0m\n",
      "\u001b[31mInformative         Inspiring\u001b[0m\n",
      "\u001b[32mFunny               Funny\u001b[0m\n",
      "\u001b[32mInformative         Informative\u001b[0m\n",
      "\u001b[31mPersuasive          Informative\u001b[0m\n",
      "\u001b[32mInformative         Informative\u001b[0m\n",
      "\u001b[32mInspiring           Inspiring\u001b[0m\n",
      "\u001b[32mBeautiful           Beautiful\u001b[0m\n",
      "\u001b[32mInformative         Informative\u001b[0m\n",
      "\u001b[31mFascinating         Informative\u001b[0m\n",
      "\u001b[32mInspiring           Inspiring\u001b[0m\n",
      "\u001b[32mFascinating         Fascinating\u001b[0m\n",
      "\u001b[32mInformative         Informative\u001b[0m\n",
      "\u001b[32mInspiring           Inspiring\u001b[0m\n",
      "\u001b[31mIngenious           Beautiful\u001b[0m\n",
      "\u001b[32mInspiring           Inspiring\u001b[0m\n",
      "\u001b[31mJaw-dropping        Fascinating\u001b[0m\n",
      "\u001b[31mBeautiful           Inspiring\u001b[0m\n",
      "\u001b[32mInformative         Informative\u001b[0m\n",
      "\u001b[32mInformative         Informative\u001b[0m\n",
      "\u001b[32mInspiring           Inspiring\u001b[0m\n",
      "\u001b[31mBeautiful           Inspiring\u001b[0m\n",
      "\u001b[32mInspiring           Inspiring\u001b[0m\n",
      "\u001b[32mInspiring           Inspiring\u001b[0m\n",
      "\u001b[32mInspiring           Inspiring\u001b[0m\n",
      "\u001b[31mFunny               Informative\u001b[0m\n",
      "\u001b[31mIngenious           Informative\u001b[0m\n",
      "\u001b[32mInspiring           Inspiring\u001b[0m\n",
      "\u001b[31mCourageous          Inspiring\u001b[0m\n",
      "\u001b[31mIngenious           Inspiring\u001b[0m\n",
      "\u001b[32mInspiring           Inspiring\u001b[0m\n",
      "\u001b[31mPersuasive          Inspiring\u001b[0m\n",
      "\u001b[32mInformative         Informative\u001b[0m\n",
      "\u001b[31mBeautiful           Informative\u001b[0m\n",
      "\u001b[32mInspiring           Inspiring\u001b[0m\n",
      "\u001b[31mInspiring           Informative\u001b[0m\n",
      "\u001b[32mInformative         Informative\u001b[0m\n",
      "\u001b[31mInspiring           Informative\u001b[0m\n",
      "\u001b[32mInformative         Informative\u001b[0m\n",
      "\u001b[32mInspiring           Inspiring\u001b[0m\n",
      "\u001b[32mInspiring           Inspiring\u001b[0m\n",
      "\u001b[32mInformative         Informative\u001b[0m\n",
      "\u001b[32mInformative         Informative\u001b[0m\n",
      "\u001b[31mInspiring           Informative\u001b[0m\n",
      "\u001b[32mInspiring           Inspiring\u001b[0m\n",
      "\u001b[32mInformative         Informative\u001b[0m\n",
      "\u001b[32mInspiring           Inspiring\u001b[0m\n",
      "\u001b[32mInformative         Informative\u001b[0m\n",
      "\u001b[31mInspiring           Informative\u001b[0m\n",
      "\u001b[32mInspiring           Inspiring\u001b[0m\n",
      "\u001b[32mInspiring           Inspiring\u001b[0m\n",
      "\u001b[32mInspiring           Inspiring\u001b[0m\n",
      "\u001b[32mFunny               Funny\u001b[0m\n",
      "\u001b[31mJaw-dropping        Informative\u001b[0m\n",
      "\u001b[32mInspiring           Inspiring\u001b[0m\n",
      "\u001b[32mInformative         Informative\u001b[0m\n",
      "\u001b[32mFascinating         Fascinating\u001b[0m\n",
      "\u001b[31mFascinating         Informative\u001b[0m\n",
      "\u001b[31mFunny               Inspiring\u001b[0m\n",
      "\u001b[31mBeautiful           Inspiring\u001b[0m\n",
      "\u001b[32mInspiring           Inspiring\u001b[0m\n",
      "\u001b[31mInformative         Inspiring\u001b[0m\n",
      "\u001b[32mInspiring           Inspiring\u001b[0m\n",
      "\u001b[32mInspiring           Inspiring\u001b[0m\n",
      "\u001b[32mInformative         Informative\u001b[0m\n",
      "\u001b[31mInformative         Fascinating\u001b[0m\n",
      "\u001b[31mCourageous          Inspiring\u001b[0m\n",
      "\u001b[32mInspiring           Inspiring\u001b[0m\n",
      "\u001b[32mInspiring           Inspiring\u001b[0m\n",
      "\u001b[32mInspiring           Inspiring\u001b[0m\n",
      "\u001b[32mBeautiful           Beautiful\u001b[0m\n",
      "\u001b[31mInformative         Inspiring\u001b[0m\n",
      "\u001b[31mInformative         Inspiring\u001b[0m\n",
      "\u001b[32mFascinating         Fascinating\u001b[0m\n",
      "\u001b[32mInspiring           Inspiring\u001b[0m\n",
      "\u001b[32mInformative         Informative\u001b[0m\n",
      "\u001b[32mInformative         Informative\u001b[0m\n",
      "\u001b[31mInformative         Inspiring\u001b[0m\n",
      "\u001b[32mInspiring           Inspiring\u001b[0m\n",
      "\u001b[32mInformative         Informative\u001b[0m\n",
      "\u001b[31mFunny               Inspiring\u001b[0m\n",
      "\u001b[32mInformative         Informative\u001b[0m\n",
      "\u001b[31mBeautiful           Inspiring\u001b[0m\n",
      "\u001b[32mBeautiful           Beautiful\u001b[0m\n",
      "\u001b[32mFascinating         Fascinating\u001b[0m\n",
      "\u001b[32mIngenious           Ingenious\u001b[0m\n",
      "\u001b[32mInformative         Informative\u001b[0m\n",
      "\u001b[31mFascinating         Informative\u001b[0m\n",
      "\u001b[32mInformative         Informative\u001b[0m\n",
      "\u001b[31mJaw-dropping        Informative\u001b[0m\n",
      "\u001b[32mInformative         Informative\u001b[0m\n",
      "\u001b[31mInformative         Inspiring\u001b[0m\n",
      "\u001b[31mInformative         Inspiring\u001b[0m\n",
      "\u001b[32mInformative         Informative\u001b[0m\n",
      "\u001b[31mInformative         Fascinating\u001b[0m\n",
      "\u001b[32mInformative         Informative\u001b[0m\n",
      "\u001b[32mInformative         Informative\u001b[0m\n",
      "\u001b[31mFascinating         Inspiring\u001b[0m\n",
      "\u001b[32mInformative         Informative\u001b[0m\n",
      "\u001b[32mInformative         Informative\u001b[0m\n",
      "\u001b[31mFascinating         Informative\u001b[0m\n",
      "\u001b[31mFascinating         Informative\u001b[0m\n",
      "\u001b[32mInformative         Informative\u001b[0m\n",
      "\u001b[32mInspiring           Inspiring\u001b[0m\n",
      "\u001b[32mCourageous          Courageous\u001b[0m\n",
      "\u001b[31mPersuasive          Inspiring\u001b[0m\n",
      "\u001b[32mInspiring           Inspiring\u001b[0m\n",
      "\u001b[32mFunny               Funny\u001b[0m\n",
      "\u001b[32mInformative         Informative\u001b[0m\n",
      "\u001b[31mFascinating         Informative\u001b[0m\n",
      "\u001b[32mInspiring           Inspiring\u001b[0m\n",
      "\u001b[32mBeautiful           Beautiful\u001b[0m\n",
      "\u001b[32mBeautiful           Beautiful\u001b[0m\n",
      "\u001b[32mInspiring           Inspiring\u001b[0m\n",
      "\u001b[32mFunny               Funny\u001b[0m\n",
      "\u001b[32mInspiring           Inspiring\u001b[0m\n",
      "\u001b[32mInspiring           Inspiring\u001b[0m\n",
      "\u001b[31mOK                  Inspiring\u001b[0m\n",
      "\u001b[32mInformative         Informative\u001b[0m\n",
      "\u001b[32mInformative         Informative\u001b[0m\n",
      "\u001b[31mInformative         Inspiring\u001b[0m\n",
      "\u001b[31mInspiring           Fascinating\u001b[0m\n",
      "\u001b[31mIngenious           Fascinating\u001b[0m\n",
      "\u001b[31mPersuasive          Inspiring\u001b[0m\n",
      "\u001b[32mInspiring           Inspiring\u001b[0m\n",
      "\u001b[32mFunny               Funny\u001b[0m\n",
      "\u001b[32mInspiring           Inspiring\u001b[0m\n",
      "\u001b[31mInspiring           Informative\u001b[0m\n",
      "\u001b[32mFunny               Funny\u001b[0m\n",
      "\u001b[31mInformative         Fascinating\u001b[0m\n",
      "\u001b[32mInspiring           Inspiring\u001b[0m\n",
      "\u001b[32mBeautiful           Beautiful\u001b[0m\n",
      "\u001b[32mInspiring           Inspiring\u001b[0m\n",
      "\u001b[32mInspiring           Inspiring\u001b[0m\n",
      "\u001b[32mInformative         Informative\u001b[0m\n",
      "\u001b[31mInformative         Inspiring\u001b[0m\n",
      "\u001b[32mInspiring           Inspiring\u001b[0m\n",
      "\u001b[31mInformative         Inspiring\u001b[0m\n",
      "\u001b[32mInspiring           Inspiring\u001b[0m\n",
      "\u001b[32mFunny               Funny\u001b[0m\n",
      "\u001b[31mFascinating         Informative\u001b[0m\n",
      "\u001b[32mInspiring           Inspiring\u001b[0m\n",
      "\u001b[31mInformative         Inspiring\u001b[0m\n",
      "\u001b[32mFascinating         Fascinating\u001b[0m\n",
      "\u001b[31mFascinating         Informative\u001b[0m\n",
      "\u001b[32mInformative         Informative\u001b[0m\n",
      "\u001b[32mInspiring           Inspiring\u001b[0m\n",
      "\u001b[32mInspiring           Inspiring\u001b[0m\n",
      "\u001b[32mInspiring           Inspiring\u001b[0m\n",
      "\u001b[32mInformative         Informative\u001b[0m\n",
      "\u001b[31mInspiring           Informative\u001b[0m\n",
      "\u001b[31mJaw-dropping        Inspiring\u001b[0m\n",
      "\u001b[32mInformative         Informative\u001b[0m\n",
      "\u001b[32mInformative         Informative\u001b[0m\n",
      "\u001b[31mInspiring           Informative\u001b[0m\n",
      "\u001b[32mInspiring           Inspiring\u001b[0m\n",
      "\u001b[32mInformative         Informative\u001b[0m\n",
      "\u001b[32mInspiring           Inspiring\u001b[0m\n",
      "\u001b[31mUnconvincing        Informative\u001b[0m\n",
      "\u001b[32mFascinating         Fascinating\u001b[0m\n",
      "\u001b[32mInspiring           Inspiring\u001b[0m\n",
      "\u001b[32mInformative         Informative\u001b[0m\n",
      "\u001b[31mBeautiful           Inspiring\u001b[0m\n",
      "\u001b[31mFascinating         Informative\u001b[0m\n",
      "\u001b[32mInformative         Informative\u001b[0m\n",
      "\u001b[32mInspiring           Inspiring\u001b[0m\n",
      "\u001b[31mOK                  Informative\u001b[0m\n",
      "\u001b[32mInspiring           Inspiring\u001b[0m\n",
      "\u001b[32mInformative         Informative\u001b[0m\n",
      "\u001b[32mInspiring           Inspiring\u001b[0m\n",
      "\u001b[31mBeautiful           Inspiring\u001b[0m\n",
      "\u001b[32mInformative         Informative\u001b[0m\n",
      "\u001b[32mInspiring           Inspiring\u001b[0m\n",
      "\u001b[31mIngenious           Informative\u001b[0m\n",
      "\u001b[31mInformative         Inspiring\u001b[0m\n",
      "\u001b[32mFascinating         Fascinating\u001b[0m\n",
      "\u001b[31mPersuasive          Informative\u001b[0m\n",
      "\u001b[31mInspiring           Funny\u001b[0m\n",
      "\u001b[32mInformative         Informative\u001b[0m\n",
      "\u001b[32mInformative         Informative\u001b[0m\n",
      "\u001b[31mInformative         Inspiring\u001b[0m\n",
      "\u001b[31mUnconvincing        Inspiring\u001b[0m\n",
      "\u001b[32mInformative         Informative\u001b[0m\n",
      "\u001b[32mInformative         Informative\u001b[0m\n",
      "\u001b[31mInspiring           Informative\u001b[0m\n",
      "\u001b[31mCourageous          Informative\u001b[0m\n",
      "\u001b[32mInspiring           Inspiring\u001b[0m\n"
     ]
    }
   ],
   "source": [
    "for x,y in zip(test.category, predicted):\n",
    "    if x == y:\n",
    "        print (colored('{:<20}'.format(x) + y, 'green'))\n",
    "    else:\n",
    "        print (colored('{:<20}'.format(x) + y, 'red'))"
   ]
  },
  {
   "cell_type": "markdown",
   "metadata": {},
   "source": [
    "A confusionmatrix gives more insight in the results."
   ]
  },
  {
   "cell_type": "code",
   "execution_count": 9,
   "metadata": {},
   "outputs": [
    {
     "data": {
      "image/png": "[encoded data removed]",
      "text/plain": [
       "<Figure size 1440x1440 with 2 Axes>"
      ]
     },
     "metadata": {
      "needs_background": "light"
     },
     "output_type": "display_data"
    }
   ],
   "source": [
    "from sklearn.metrics import confusion_matrix\n",
    "labels = list(category_set)\n",
    "labels.sort()\n",
    "cm = confusion_matrix(test.category, predicted, labels=labels)\n",
    "fig = plt.figure(figsize=(20, 20 ))\n",
    "ax = fig.add_subplot(111)\n",
    "cax = ax.matshow(cm)\n",
    "plt.title('Confusion matrix of the category')\n",
    "plt.locator_params(nbins=len(labels))\n",
    "fig.colorbar(cax)\n",
    "ax.set_xticklabels([''] + labels)\n",
    "ax.set_yticklabels([''] + labels)\n",
    "plt.xlabel('Predicted')\n",
    "plt.ylabel('True')\n",
    "plt.show()"
   ]
  },
  {
   "cell_type": "markdown",
   "metadata": {},
   "source": [
    "It appears that especially the categories **informative** and **inspiring** score quite well. These are also the best scored categories in the reviews. So what happens if we only look at these? Let's try!"
   ]
  },
  {
   "cell_type": "code",
   "execution_count": 10,
   "metadata": {},
   "outputs": [
    {
     "name": "stdout",
     "output_type": "stream",
     "text": [
      "\u001b[34mAccuracy score:\u001b[0m\n",
      "0.8301282051282052\n"
     ]
    },
    {
     "data": {
      "image/png": "[encoded data removed]",
      "text/plain": [
       "<Figure size 432x288 with 2 Axes>"
      ]
     },
     "metadata": {
      "needs_background": "light"
     },
     "output_type": "display_data"
    }
   ],
   "source": [
    "sql_text = \"SELECT ted_main.category, transcripts.transcript FROM ted_main \" \\\n",
    "    + \"INNER JOIN transcripts ON ted_main.url = transcripts.url WHERE ted_main.category IN ('Inspiring','Informative');\"\n",
    "dataset = pd.read_sql_query(sql_text, conn)\n",
    "train, test = train_test_split(dataset, test_size=0.2, random_state=0)\n",
    "\n",
    "count_vect = CountVectorizer(stop_words='english')\n",
    "\n",
    "X_train_counts = count_vect.fit_transform(\n",
    "    train.transcript)  # X_train_counts.shape\n",
    "\n",
    "tf_transformer = TfidfTransformer(use_idf=False).fit(X_train_counts)\n",
    "X_train_tfidf = tf_transformer.transform(X_train_counts)\n",
    "\n",
    "model = AdaBoostClassifier(base_estimator=MultinomialNB(alpha=0.1))\n",
    "model.fit(X_train_tfidf, train.category)\n",
    "\n",
    "X_test_counts = count_vect.transform(test.transcript)\n",
    "X_test_tfidf = tf_transformer.transform(X_test_counts)\n",
    "predicted = model.predict(X_test_tfidf)\n",
    "print(colored('Accuracy score:', 'blue'))\n",
    "print(accuracy_score(test.category, predicted))\n",
    "\n",
    "labels = ['Inspiring', 'Informative']\n",
    "cm = confusion_matrix(test.category, predicted, labels=labels)\n",
    "fig = plt.figure()\n",
    "ax = fig.add_subplot(111)\n",
    "cax = ax.matshow(cm)\n",
    "plt.title('Confusion matrix of the category')\n",
    "plt.locator_params(nbins=len(labels))\n",
    "fig.colorbar(cax)\n",
    "ax.set_xticklabels([''] + labels)\n",
    "ax.set_yticklabels([''] + labels)\n",
    "plt.xlabel('Predicted')\n",
    "plt.ylabel('True')\n",
    "plt.show()"
   ]
  },
  {
   "cell_type": "markdown",
   "metadata": {},
   "source": [
    "As expected the accuracy is much better now and also the confusion matrix is satisfying. It appears that for these categories the kinds of words used do actually indicate whether a talk is inspiring or informative!"
   ]
  },
  {
   "cell_type": "markdown",
   "metadata": {},
   "source": [
    "___\n",
    "<span style=\"color:green\">**6.Connect to database from Python, select some columns database and produce a visualization/analysis of it.**</span>\n",
    "\n",
    "Of course I have been connected to the database all the time as I used sqlalchemy to create and manipulate the sqlite database.\n",
    "\n",
    "For the visualisation I decided to show the relation between number of views and the number of times the talk was rated as \"Funny\".\n",
    "\n",
    "To be sure that the funny count makes sense, the funny count is converted to a percentage of the total counts. To prevent a skewed result, reviews with a total review count of less than 1000 have been omitted."
   ]
  },
  {
   "cell_type": "code",
   "execution_count": 11,
   "metadata": {},
   "outputs": [
    {
     "name": "stdout",
     "output_type": "stream",
     "text": [
      "\u001b[34mColumns \"total_review\" added\u001b[0m\n",
      "\u001b[34mColumns \"funny_count\" added\u001b[0m\n",
      "\u001b[34mColumns \"insp_count\" added\u001b[0m\n"
     ]
    }
   ],
   "source": [
    "# Adding the columns\n",
    "sql_text = \"ALTER TABLE ted_main ADD total_reviews BIGINT;\"\n",
    "result = conn.execute(sql_text)\n",
    "print(colored('Columns \"total_review\" added', 'blue'))\n",
    "\n",
    "sql_text = \"ALTER TABLE ted_main ADD funny_count BIGINT;\"\n",
    "result = conn.execute(sql_text)\n",
    "print(colored('Columns \"funny_count\" added', 'blue'))\n",
    "\n",
    "sql_text = \"ALTER TABLE ted_main ADD insp_count BIGINT;\"\n",
    "result = conn.execute(sql_text)\n",
    "print(colored('Columns \"insp_count\" added', 'blue'))"
   ]
  },
  {
   "cell_type": "code",
   "execution_count": 12,
   "metadata": {},
   "outputs": [
    {
     "name": "stdout",
     "output_type": "stream",
     "text": [
      "\u001b[34mUpdated 2550 rows\u001b[0m\n"
     ]
    },
    {
     "data": {
      "image/png": "[encoded data removed]",
      "text/plain": [
       "<Figure size 432x288 with 1 Axes>"
      ]
     },
     "metadata": {
      "needs_background": "light"
     },
     "output_type": "display_data"
    }
   ],
   "source": [
    "def funny_total_parser(reviews):\n",
    "    reviews = reviews[2:-2]\n",
    "    l_reviews = reviews.split(\"}, {\")\n",
    "    total_count = 0\n",
    "    funny_count = 0\n",
    "    insp_count = 0\n",
    "    for review in l_reviews:\n",
    "        detail = review.split(\",\")\n",
    "        count = int(detail[2][detail[2].find(':') + 2:])\n",
    "        total_count += count\n",
    "        category = detail[1][detail[1].find(':') + 2:]\n",
    "        if category == \"'Funny'\":\n",
    "            funny_count = count\n",
    "        if category == \"'Inspiring'\":\n",
    "            insp_count = count\n",
    "    return str(total_count), str(funny_count), str(insp_count)\n",
    "\n",
    "\n",
    "counter = 0\n",
    "sql_text = 'SELECT url, ratings FROM ted_main'\n",
    "result = conn.execute(sql_text).fetchall()\n",
    "for row in result:\n",
    "    total_count, funny_count, insp_count = funny_total_parser(row[1])\n",
    "    sql_text = \"UPDATE ted_main SET total_reviews = \" \\\n",
    "               + total_count + \", funny_count = \" \\\n",
    "               + funny_count + \", insp_count = \" \\\n",
    "               + insp_count + \" WHERE url = '\" + row[0] + \"';\"\n",
    "    conn.execute(sql_text)\n",
    "    counter += 1\n",
    "print(colored('Updated ' + str(counter) + ' rows', 'blue'))\n",
    "\n",
    "sql_text = 'SELECT total_reviews, published_date, ROUND(funny_count/(total_reviews*1.0)*100)' \\\n",
    "    + ' AS funny_factor, ROUND(insp_count/(total_reviews*1.0)*100)' \\\n",
    "    + ' AS insp_factor FROM ted_main WHERE total_reviews > 1000;'\n",
    "\n",
    "query_dataset = pd.read_sql_query(sql_text, conn)\n",
    "\n",
    "fig, ax = plt.subplots()\n",
    "ax.plot(query_dataset.total_reviews,\n",
    "        query_dataset.funny_factor, 'm.', alpha=0.3)\n",
    "\n",
    "ax.set(xlabel='Number of views', ylabel='Funny factor [%]',\n",
    "       title='TED Talks - Funny factor vs #views')\n",
    "ax.grid()\n",
    "plt.show()"
   ]
  },
  {
   "cell_type": "markdown",
   "metadata": {},
   "source": [
    "Well this is disappointing. I was hoping that the funnier people think the Ted Talk is, the more views there are, but it is easy to see that this is not true.\n",
    "\n",
    "As Ted Talks claims to be inspirational, my hope was on the inspirational review count, resulting in the plot below:"
   ]
  },
  {
   "cell_type": "code",
   "execution_count": 13,
   "metadata": {},
   "outputs": [
    {
     "data": {
      "image/png": "[encoded data removed]",
      "text/plain": [
       "<Figure size 432x288 with 1 Axes>"
      ]
     },
     "metadata": {
      "needs_background": "light"
     },
     "output_type": "display_data"
    }
   ],
   "source": [
    "fig, ax = plt.subplots()\n",
    "ax.plot(query_dataset.total_reviews,\n",
    "        query_dataset.insp_factor, 'b.', alpha=0.3)\n",
    "\n",
    "ax.set(xlabel='Number of views', ylabel='Inspirational factor [%]',\n",
    "       title='TED Talks - Inspirational factor vs #views')\n",
    "ax.grid()\n",
    "plt.show()"
   ]
  },
  {
   "cell_type": "markdown",
   "metadata": {},
   "source": [
    "Also here you see that the review count \"inspirational\" is not directly related to the number of views. Of course the number of views is also depending on the published date: the earlier it is published, the more time there has been to view the show..."
   ]
  },
  {
   "cell_type": "code",
   "execution_count": 14,
   "metadata": {},
   "outputs": [
    {
     "data": {
      "image/png": "[encoded data removed]",
      "text/plain": [
       "<Figure size 432x288 with 1 Axes>"
      ]
     },
     "metadata": {
      "needs_background": "light"
     },
     "output_type": "display_data"
    }
   ],
   "source": [
    "query_dataset['published_year'] = query_dataset['published_date']. \\\n",
    "    apply(lambda x: datetime.datetime.fromtimestamp(int(x)).strftime('%Y'))\n",
    "\n",
    "fig, ax = plt.subplots()\n",
    "ax.plot(query_dataset.total_reviews,\n",
    "        query_dataset.published_year, 'go', alpha=0.3)\n",
    "\n",
    "ax.set(xlabel='Number of views', ylabel='Published year',\n",
    "       title='TED Talks - Published year vs #views')\n",
    "ax.grid()\n",
    "plt.show()"
   ]
  },
  {
   "cell_type": "markdown",
   "metadata": {},
   "source": [
    "___ \n",
    "Well that is still disappointing... Let's take a look at the correlation matrix:"
   ]
  },
  {
   "cell_type": "code",
   "execution_count": 15,
   "metadata": {},
   "outputs": [
    {
     "name": "stdout",
     "output_type": "stream",
     "text": [
      "                total_reviews  published_date  funny_factor  insp_factor\n",
      "total_reviews        1.000000       -0.129195      0.052874     0.156792\n",
      "published_date      -0.129195        1.000000     -0.110687     0.179885\n",
      "funny_factor         0.052874       -0.110687      1.000000    -0.269423\n",
      "insp_factor          0.156792        0.179885     -0.269423     1.000000\n"
     ]
    }
   ],
   "source": [
    "corr_matrix = query_dataset.corr()\n",
    "print (corr_matrix)"
   ]
  },
  {
   "cell_type": "markdown",
   "metadata": {},
   "source": [
    "Here we can see that the correlation coefficients between the data shown in plots above are quite low. One of the bigger reasons might be that once a show has a certain number of views, people are triggered to view the show, simply because of the number of views, which in turn increases even more...\n",
    "\n",
    "The top 10 most viewed TED talks below show some of the researched parameters. I guess I just have to watch them to know why they are so popular...."
   ]
  },
  {
   "cell_type": "code",
   "execution_count": 16,
   "metadata": {},
   "outputs": [
    {
     "name": "stdout",
     "output_type": "stream",
     "text": [
      "                                               title     category  \\\n",
      "0                        Do schools kill creativity?    Inspiring   \n",
      "1           Your body language may shape who you are    Inspiring   \n",
      "2                   How great leaders inspire action    Inspiring   \n",
      "3                         The power of vulnerability    Inspiring   \n",
      "4             10 things you didn't know about orgasm        Funny   \n",
      "5         How to speak so that people want to listen  Informative   \n",
      "6                               My stroke of insight    Inspiring   \n",
      "7                               Why we do what we do    Inspiring   \n",
      "8  This is what happens when you reply to spam email        Funny   \n",
      "9  Looks aren't everything. Believe me, I'm a model.   Courageous   \n",
      "\n",
      "   funny_factor  insp_factor  \n",
      "0          21.0         27.0  \n",
      "1           1.0         32.0  \n",
      "2           1.0         38.0  \n",
      "3           9.0         36.0  \n",
      "4          37.0          1.0  \n",
      "5           5.0         24.0  \n",
      "6           1.0         24.0  \n",
      "7           7.0         34.0  \n",
      "8          63.0          3.0  \n",
      "9           4.0         19.0  \n"
     ]
    }
   ],
   "source": [
    "sql_text = 'SELECT title, category, ROUND(funny_count/(total_reviews*1.0)*100)' \\\n",
    "    + ' AS funny_factor, ROUND(insp_count/(total_reviews*1.0)*100)' \\\n",
    "    + ' AS insp_factor  FROM ted_main ORDER BY views DESC LIMIT 10'\n",
    "result = conn.execute(sql_text).fetchall()\n",
    "query_dataset = pd.read_sql_query(sql_text, conn)\n",
    "print(query_dataset)"
   ]
  },
  {
   "cell_type": "markdown",
   "metadata": {},
   "source": [
    "___\n",
    "As the final project description requests to use a ML form that has not been used in the class so far, I tend to add 1 more investigation: predict the classification by means of the number of views.\n",
    "\n",
    "As far as I can see the following complies to all the project demands:\n",
    "\n",
    "**- Find a dataset to conduct any form of machine learning we have NOT discussed in class**\n",
    "\n",
    "**- Using any form of trainin/testing method we have discussed in class**\n",
    "\n",
    "**- Train the model using appropriate methods and share results.**"
   ]
  },
  {
   "cell_type": "code",
   "execution_count": 17,
   "metadata": {},
   "outputs": [
    {
     "name": "stdout",
     "output_type": "stream",
     "text": [
      "\u001b[34mAccuracy score:\u001b[0m\n",
      "0.21176470588235294\n"
     ]
    },
    {
     "data": {
      "image/png": "[encoded data removed]",
      "text/plain": [
       "<Figure size 1440x1440 with 2 Axes>"
      ]
     },
     "metadata": {
      "needs_background": "light"
     },
     "output_type": "display_data"
    }
   ],
   "source": [
    "sql_text = \"SELECT category, views, comments FROM ted_main;\"\n",
    "dataset = pd.read_sql_query(sql_text, conn)\n",
    "train, test = train_test_split(dataset, test_size=0.2, random_state=0)\n",
    "clf = AdaBoostClassifier(base_estimator=MultinomialNB(alpha=1))\n",
    "clf.fit(train[['views', 'comments']], train['category'])\n",
    "predicted = clf.predict(test[['views', 'comments']])\n",
    "print(colored('Accuracy score:', 'blue'))\n",
    "print(accuracy_score(test.category, predicted))\n",
    "\n",
    "labels = list(category_set)\n",
    "labels.sort()\n",
    "cm = confusion_matrix(test.category, predicted, labels=labels)\n",
    "fig = plt.figure(figsize=(20, 20))\n",
    "ax = fig.add_subplot(111)\n",
    "cax = ax.matshow(cm)\n",
    "plt.title('Confusion matrix of the category')\n",
    "plt.locator_params(nbins=len(labels))\n",
    "fig.colorbar(cax)\n",
    "ax.set_xticklabels([''] + labels)\n",
    "ax.set_yticklabels([''] + labels)\n",
    "plt.xlabel('Predicted')\n",
    "plt.ylabel('True')\n",
    "plt.show()"
   ]
  },
  {
   "cell_type": "markdown",
   "metadata": {},
   "source": [
    "Here again we see a higher score for informative and inspiring, but you can also see that the predictions are quite random around these 2 categories. Changing parameters did not really help. I tried other models (e.g. scaled vector machine classifiers always ended with category \"Inspiring\" for every prediction. I guess this is the best I can do for the relation between number of views and the category..."
   ]
  },
  {
   "cell_type": "markdown",
   "metadata": {},
   "source": [
    "**Conclusion**: The best result so far for predicting the review category was using NLP on the contents of the show."
   ]
  },
  {
   "cell_type": "markdown",
   "metadata": {},
   "source": [
    "___\n",
    "That's it, now close the SQL connection..."
   ]
  },
  {
   "cell_type": "code",
   "execution_count": 18,
   "metadata": {},
   "outputs": [],
   "source": [
    "# close sql connection\n",
    "conn.close()"
   ]
  }
 ],
 "metadata": {
  "kernelspec": {
   "display_name": "Python 3",
   "language": "python",
   "name": "python3"
  },
  "language_info": {
   "codemirror_mode": {
    "name": "ipython",
    "version": 3
   },
   "file_extension": ".py",
   "mimetype": "text/x-python",
   "name": "python",
   "nbconvert_exporter": "python",
   "pygments_lexer": "ipython3",
   "version": "3.7.3"
  }
 },
 "nbformat": 4,
 "nbformat_minor": 2
}
