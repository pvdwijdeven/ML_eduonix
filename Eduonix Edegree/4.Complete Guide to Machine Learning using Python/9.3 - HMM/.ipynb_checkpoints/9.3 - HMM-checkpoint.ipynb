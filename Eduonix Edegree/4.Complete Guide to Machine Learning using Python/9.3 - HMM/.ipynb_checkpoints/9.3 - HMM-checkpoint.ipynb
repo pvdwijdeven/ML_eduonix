{
 "cells": [
  {
   "cell_type": "code",
   "execution_count": 2,
   "metadata": {},
   "outputs": [
    {
     "ename": "SyntaxError",
     "evalue": "invalid syntax (<ipython-input-2-35beadefde8f>, line 2)",
     "output_type": "error",
     "traceback": [
      "\u001b[1;36m  File \u001b[1;32m\"<ipython-input-2-35beadefde8f>\"\u001b[1;36m, line \u001b[1;32m2\u001b[0m\n\u001b[1;33m    conda install -c omnia hmmlearn\u001b[0m\n\u001b[1;37m                ^\u001b[0m\n\u001b[1;31mSyntaxError\u001b[0m\u001b[1;31m:\u001b[0m invalid syntax\n"
     ]
    }
   ],
   "source": [
    "import numpy as np\n",
    "from hmmlearn.hmm import MultinomialHMM\n",
    "import warnings\n",
    "\n",
    "warnings.filterwarnings('ignore')\n",
    "\n",
    "startprob = np.array([0.5, 0.5])\n",
    "\n",
    "transmat = np.array([[0.7, 0.3],\n",
    "                      [0.3, 0.7]])\n",
    "\n",
    "covar = np.array([[0.9, 0.1],\n",
    "                    [0.2, 0.8]])\n",
    "\n",
    "# h = MultinomialHMM()\n",
    "h = MultinomialHMM(n_components=2, startprob=startprob,transmat=transmat)\n",
    "\n",
    "X = [[0, 0, 1, 0, 0],[0, 0, 0, 0, 0],[1, 1, 1, 0],[0, 0, 1]]\n",
    "h.fit(X)\n",
    "\n",
    "# print(h.transmat_)\n",
    "\n",
    "prob = h.decode([0, 0, 1, 0, 0])\n",
    "# print(np.exp(prob[0]))\n",
    "\n",
    "X, Z = h.sample(500)\n",
    "print(Z)"
   ]
  },
  {
   "cell_type": "code",
   "execution_count": null,
   "metadata": {},
   "outputs": [],
   "source": []
  }
 ],
 "metadata": {
  "kernelspec": {
   "display_name": "Python 3",
   "language": "python",
   "name": "python3"
  },
  "language_info": {
   "codemirror_mode": {
    "name": "ipython",
    "version": 3
   },
   "file_extension": ".py",
   "mimetype": "text/x-python",
   "name": "python",
   "nbconvert_exporter": "python",
   "pygments_lexer": "ipython3",
   "version": "3.7.3"
  }
 },
 "nbformat": 4,
 "nbformat_minor": 2
}
