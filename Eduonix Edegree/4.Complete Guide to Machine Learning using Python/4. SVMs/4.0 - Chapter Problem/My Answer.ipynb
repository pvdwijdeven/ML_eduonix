{
 "cells": [
  {
   "cell_type": "markdown",
   "metadata": {},
   "source": [
    "- Select a dataset thatis not iris to produce SVM models\n",
    "- Include 2 parameters not covered in lectures and describe what they do\n",
    "- Train and test (score) model 5 times. Plot how accurate the SVM increases (y axis = score, x axis = training iteration)"
   ]
  },
  {
   "cell_type": "code",
   "execution_count": 18,
   "metadata": {},
   "outputs": [
    {
     "data": {
      "image/png": "[encoded data removed]",
      "text/plain": [
       "<Figure size 432x288 with 1 Axes>"
      ]
     },
     "metadata": {
      "needs_background": "light"
     },
     "output_type": "display_data"
    }
   ],
   "source": [
    "from sklearn.datasets import load_wine\n",
    "from sklearn import svm\n",
    "from sklearn.model_selection import train_test_split\n",
    "from sklearn import metrics\n",
    "import numpy as np\n",
    "import pandas as pd\n",
    "import matplotlib.pyplot as plt\n",
    "\n",
    "wine = load_wine()\n",
    "X = wine.data[:,:2]\n",
    "y = wine.target\n",
    "\n",
    "\n",
    "svc = svm.SVC(kernel='poly', C=10, gamma=\"auto\") # 'linear’, ‘poly’, ‘rbf’, ‘sigmoid’, ‘precomputed’\n",
    "# svc.fit(X,y)\n",
    "\n",
    "# Higher the value of gamma, will try to exact fit the as per training data set \n",
    "   # i.e. generalization error and cause over-fitting problem.\n",
    "# C (error term) is the parameter for the soft margin cost function, \n",
    "    # which controls the influence of each individual support vector; \n",
    "    # this process involves trading error penalty for stability.\n",
    "\n",
    "X_train, X_test, y_train, y_test = train_test_split(X, y, test_size=0.2, random_state=7) \n",
    "\n",
    "result = []\n",
    "\n",
    "for epoch in range(0,5):\n",
    "    svc.fit(X_train,y_train)\n",
    "    result.append(svc.score(X_test, y_test))\n",
    "    \n",
    "plt.subplot(1, 1, 1)\n",
    "plt.plot(result)\n",
    "plt.show()"
   ]
  },
  {
   "cell_type": "code",
   "execution_count": null,
   "metadata": {},
   "outputs": [],
   "source": []
  },
  {
   "cell_type": "code",
   "execution_count": null,
   "metadata": {},
   "outputs": [],
   "source": []
  }
 ],
 "metadata": {
  "kernelspec": {
   "display_name": "Python 3",
   "language": "python",
   "name": "python3"
  },
  "language_info": {
   "codemirror_mode": {
    "name": "ipython",
    "version": 3
   },
   "file_extension": ".py",
   "mimetype": "text/x-python",
   "name": "python",
   "nbconvert_exporter": "python",
   "pygments_lexer": "ipython3",
   "version": "3.7.3"
  }
 },
 "nbformat": 4,
 "nbformat_minor": 2
}
