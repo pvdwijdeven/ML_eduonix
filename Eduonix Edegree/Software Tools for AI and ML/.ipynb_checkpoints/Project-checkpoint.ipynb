{
 "cells": [
  {
   "cell_type": "markdown",
   "metadata": {},
   "source": [
    "Process MNIST dataset:\n",
    "- Normalize image data, convert labels to integers\n",
    "- Take note of image dimensions using image.shape, image.channels.\n",
    "\n",
    "Add a convolutional layer to your sequential() model prior to your input, hidden and output layers:\n",
    "- conv2D layer with 32 units, 3x3 kernal size, relu activation function\n",
    "- Second Conv2D activation layer with: 64 units and relu activation function\n",
    "- A Maxpooling2D layer with 2x2 pooling size\n",
    "\n",
    "Add standard input, hidden, output layers\n",
    "Save output of model into a variable using .evaluate()"
   ]
  },
  {
   "cell_type": "code",
   "execution_count": 23,
   "metadata": {},
   "outputs": [
    {
     "name": "stdout",
     "output_type": "stream",
     "text": [
      "{0, 1, 2, 3, 4, 5, 6, 7, 8, 9}\n",
      "(28, 28)\n",
      "(60000, 28, 28)\n",
      "Epoch 1/3\n",
      "60000/60000 [==============================] - 220s 4ms/sample - loss: 0.3829 - acc: 0.8626\n",
      "Epoch 2/3\n",
      "60000/60000 [==============================] - 212s 4ms/sample - loss: 0.2415 - acc: 0.9102\n",
      "Epoch 3/3\n",
      "60000/60000 [==============================] - 188s 3ms/sample - loss: 0.1910 - acc: 0.9284\n"
     ]
    },
    {
     "data": {
      "text/plain": [
       "[0.2330429448246956, 0.9171]"
      ]
     },
     "execution_count": 23,
     "metadata": {},
     "output_type": "execute_result"
    }
   ],
   "source": [
    "# Normalize image data, convert labels to integers\n",
    "\n",
    "import tensorflow as tf\n",
    "from tensorflow import keras\n",
    "import numpy as np\n",
    "import matplotlib.pyplot as plt\n",
    "\n",
    "(train_images, train_labels), (test_images, test_labels) = keras.datasets.fashion_mnist.load_data()\n",
    "\n",
    "# Normalize image data\n",
    "\n",
    "# current range is 0-255, change to 0-1.\n",
    "train_images = train_images / 255.0\n",
    "test_images = test_images / 255.0\n",
    "\n",
    "# Convert labels to integers\n",
    "check_labels = set(train_labels)\n",
    "print(check_labels)\n",
    "# this shows that the labels already are integers\n",
    "\n",
    "# Take note of image dimensions using image.shape, image.channels.\n",
    "print(train_images[0].shape)\n",
    "# I do not know the \"image.channels\" for a numpy.ndarray, so I suppose this should be image.size?\n",
    "print(train_images.shape)\n",
    "\n",
    "# Add a convolutional layer to your sequential() model prior to your input, hidden and output layers:\n",
    "#      conv2D layer with 32 units, 3x3 kernal size, relu activation function\n",
    "#      Second Conv2D activation layer with: 64 units and relu activation function\n",
    "#      A Maxpooling2D layer with 2x2 pooling size\n",
    "\n",
    "# first prepare images for conv2D\n",
    "train_batch_size = train_images.shape[0]\n",
    "test_batch_size = test_images.shape[0]\n",
    "train_images = train_images.reshape(train_batch_size,  28, 28,1).astype('float32')\n",
    "test_images = test_images.reshape(test_batch_size,  28, 28,1).astype('float32')\n",
    "\n",
    "model = keras.Sequential([\n",
    "    keras.layers.Conv2D(32,(3,3), input_shape=(28, 28,1), activation=tf.nn.relu),\n",
    "    keras.layers.Conv2D(64, (4,4), activation=tf.nn.relu),\n",
    "    keras.layers.MaxPooling2D(pool_size = (2,2)),\n",
    "    keras.layers.Flatten(),\n",
    "    keras.layers.Dense(128, activation=tf.nn.relu),\n",
    "    keras.layers.Dense(10, activation=tf.nn.softmax)\n",
    "])\n",
    "\n",
    "\n",
    "model.compile(optimizer='adam',loss='sparse_categorical_crossentropy',metrics=['accuracy'])\n",
    "\n",
    "model.fit(train_images, train_labels, epochs=3)\n",
    "\n",
    "# Save output of model into a variable using .evaluate()\n",
    "evaluation = model.evaluate(test_images, test_labels, verbose=0)\n",
    "evaluation"
   ]
  },
  {
   "cell_type": "code",
   "execution_count": null,
   "metadata": {},
   "outputs": [],
   "source": []
  },
  {
   "cell_type": "code",
   "execution_count": null,
   "metadata": {},
   "outputs": [],
   "source": []
  }
 ],
 "metadata": {
  "kernelspec": {
   "display_name": "Python 3",
   "language": "python",
   "name": "python3"
  },
  "language_info": {
   "codemirror_mode": {
    "name": "ipython",
    "version": 3
   },
   "file_extension": ".py",
   "mimetype": "text/x-python",
   "name": "python",
   "nbconvert_exporter": "python",
   "pygments_lexer": "ipython3",
   "version": "3.7.3"
  }
 },
 "nbformat": 4,
 "nbformat_minor": 2
}
