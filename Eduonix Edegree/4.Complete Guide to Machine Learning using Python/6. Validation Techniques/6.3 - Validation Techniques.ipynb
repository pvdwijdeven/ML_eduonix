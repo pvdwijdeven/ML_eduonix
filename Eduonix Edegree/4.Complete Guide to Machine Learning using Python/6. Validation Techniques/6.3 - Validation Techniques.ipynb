{
 "cells": [
  {
   "cell_type": "code",
   "execution_count": 29,
   "metadata": {},
   "outputs": [
    {
     "name": "stdout",
     "output_type": "stream",
     "text": [
      "0.3333333333333333\n",
      "0.98\n"
     ]
    }
   ],
   "source": [
    "from sklearn.model_selection import KFold, cross_val_score, LeaveOneOut\n",
    "from sklearn import svm, metrics, datasets\n",
    "import numpy as np\n",
    "from sklearn.preprocessing import Normalizer\n",
    "\n",
    "\n",
    "iris = datasets.load_iris()\n",
    "X = iris.data\n",
    "y = iris.target\n",
    "\n",
    "svc = svm.SVC(kernel='linear', C=1, gamma='auto') # linear’, ‘poly’, ‘rbf’, ‘sigmoid’, ‘precomputed’\n",
    "scaler = Normalizer()\n",
    "\n",
    "k_fold = KFold(n_splits=150)\n",
    "x_scaled = scaler.fit_transform(X)\n",
    "\n",
    "results = cross_val_score(svc, x_scaled, y, cv=k_fold)\n",
    "print(np.mean(results))\n",
    "\n",
    "resCount=0\n",
    "loo = LeaveOneOut()\n",
    "for train_index, test_index in loo.split(X):\n",
    "    X_train, X_test = X[train_index], X[test_index]\n",
    "    y_train, y_test = y[train_index], y[test_index]\n",
    "    svc.fit(X_train,y_train)\n",
    "    y_pred = svc.predict(X_test)\n",
    "    acc = metrics.accuracy_score(y_test, y_pred)\n",
    "    if acc == 1.0:\n",
    "        resCount= resCount + 1\n",
    "\n",
    "    \n",
    "print((resCount/len(X)))"
   ]
  },
  {
   "cell_type": "code",
   "execution_count": 1,
   "metadata": {},
   "outputs": [
    {
     "name": "stdout",
     "output_type": "stream",
     "text": [
      "0.9777777777777777\n",
      "0.9555555555555556\n"
     ]
    }
   ],
   "source": [
    "from sklearn.model_selection import train_test_split\n",
    "from sklearn import svm, datasets, metrics\n",
    "\n",
    "iris = datasets.load_iris()\n",
    "X = iris.data\n",
    "y = iris.target\n",
    "\n",
    "svc = svm.SVC(kernel='linear', C=1, gamma='auto')\n",
    "x_train, x_test, y_train,  y_test = train_test_split(X, y, test_size = 0.3)\n",
    "\n",
    "\n",
    "svc.fit(x_train,y_train)\n",
    "y_pred = svc.predict(x_test)\n",
    "acc = metrics.accuracy_score(y_test, y_pred)\n",
    "print(acc)\n",
    "\n",
    "\n",
    "from sklearn.preprocessing import MinMaxScaler\n",
    "\n",
    "scaler = MinMaxScaler(feature_range=(0, 1))\n",
    "\n",
    "svc = svm.SVC(kernel='linear', C=1, gamma='auto')\n",
    "x_train, x_test, y_train,  y_test = train_test_split(X, y, test_size = 0.3)\n",
    "\n",
    "x_train_scaled = scaler.fit_transform(x_train)\n",
    "x_test_scaled = scaler.fit_transform(x_test)\n",
    "\n",
    "svc.fit(x_train_scaled,y_train)\n",
    "y_pred = svc.predict(x_test_scaled)\n",
    "acc = metrics.accuracy_score(y_test, y_pred)\n",
    "print(acc)\n"
   ]
  }
 ],
 "metadata": {
  "kernelspec": {
   "display_name": "Python 3",
   "language": "python",
   "name": "python3"
  },
  "language_info": {
   "codemirror_mode": {
    "name": "ipython",
    "version": 3
   },
   "file_extension": ".py",
   "mimetype": "text/x-python",
   "name": "python",
   "nbconvert_exporter": "python",
   "pygments_lexer": "ipython3",
   "version": "3.7.3"
  }
 },
 "nbformat": 4,
 "nbformat_minor": 2
}
