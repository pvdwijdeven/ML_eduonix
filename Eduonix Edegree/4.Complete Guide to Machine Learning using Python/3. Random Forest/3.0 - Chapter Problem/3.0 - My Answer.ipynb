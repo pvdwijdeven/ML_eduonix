{
 "cells": [
  {
   "cell_type": "markdown",
   "metadata": {},
   "source": [
    "- Look through sklearn datasets\n",
    "- Find a datasetnot used in example\n",
    "- Train a random forest model on your dataset\n",
    "- Determine which forest was the most accurate using the .score() function\n",
    "- Visualize feature importance with a bar plot"
   ]
  },
  {
   "cell_type": "code",
   "execution_count": 6,
   "metadata": {},
   "outputs": [
    {
     "name": "stdout",
     "output_type": "stream",
     "text": [
      "score: 0.973934\n",
      "{8: 0.9369247737000006}\n",
      "\n",
      "Feature ranking:\n",
      "1. feature RM (0.524906)\n",
      "2. feature LSTAT (0.273742)\n",
      "3. feature DIS (0.063590)\n",
      "4. feature CRIM (0.034805)\n",
      "5. feature NOX (0.028503)\n",
      "6. feature TAX (0.017679)\n",
      "7. feature B (0.016519)\n",
      "8. feature PTRATIO (0.015914)\n",
      "9. feature AGE (0.010513)\n",
      "10. feature RAD (0.006009)\n",
      "11. feature INDUS (0.004543)\n",
      "12. feature ZN (0.003065)\n",
      "13. feature CHAS (0.000211)\n"
     ]
    },
    {
     "data": {
      "image/png": "[encoded data removed]",
      "text/plain": [
       "<Figure size 864x432 with 1 Axes>"
      ]
     },
     "metadata": {
      "needs_background": "light"
     },
     "output_type": "display_data"
    }
   ],
   "source": [
    "from sklearn.datasets import load_boston\n",
    "from sklearn.ensemble import RandomForestRegressor\n",
    "import numpy as np\n",
    "import pandas as pd\n",
    "import matplotlib.pyplot as plt\n",
    "\n",
    "model = RandomForestRegressor(n_estimators=10,random_state=0, n_jobs= 10)\n",
    "boston = load_boston()\n",
    "\n",
    "df = pd.DataFrame(boston.data, columns=boston.feature_names) # load the dataset as a pandas data frame\n",
    "\n",
    "# Train\n",
    "model.fit(df, boston.target)\n",
    "print (\"score: %f\" % model.score(df, boston.target))\n",
    "\n",
    "\n",
    "bestScore={0:0}\n",
    "\n",
    "for forest, tree in enumerate(model.estimators_):\n",
    "    score = tree.score(df, boston.target)\n",
    "    if score > list(bestScore.values())[0]:\n",
    "        bestScore={forest:score}\n",
    "\n",
    "print(bestScore)\n",
    "# Extract single tree\n",
    "\n",
    "\n",
    "treeSTD = np.std([tree.feature_importances_ for tree in model.estimators_], axis=0)\n",
    "importances = model.feature_importances_\n",
    "\n",
    "indices = np.argsort(importances)[::-1]\n",
    "totalFeatures = len(boston.data[0])\n",
    "\n",
    "\n",
    "# Print the feature ranking\n",
    "print(\"\\nFeature ranking:\")\n",
    "for f in range(totalFeatures):\n",
    "    print(\"%d. feature %s (%f)\" % (f + 1, boston.feature_names[indices[f]], importances[indices[f]]))\n",
    "\n",
    "    \n",
    "\n",
    "# Plot the feature importances of the forest\n",
    "fig = plt.figure(figsize=[12,6])\n",
    "plt.title(\"Feature importances\")\n",
    "plt.bar(range(totalFeatures), importances[indices],\n",
    "       color=\"r\", yerr=treeSTD[indices], align=\"center\")\n",
    "plt.xticks(range(totalFeatures),  boston.feature_names[indices])\n",
    "plt.show()\n"
   ]
  },
  {
   "cell_type": "code",
   "execution_count": null,
   "metadata": {},
   "outputs": [],
   "source": []
  },
  {
   "cell_type": "code",
   "execution_count": null,
   "metadata": {},
   "outputs": [],
   "source": []
  }
 ],
 "metadata": {
  "kernelspec": {
   "display_name": "Python 3",
   "language": "python",
   "name": "python3"
  },
  "language_info": {
   "codemirror_mode": {
    "name": "ipython",
    "version": 3
   },
   "file_extension": ".py",
   "mimetype": "text/x-python",
   "name": "python",
   "nbconvert_exporter": "python",
   "pygments_lexer": "ipython3",
   "version": "3.7.3"
  }
 },
 "nbformat": 4,
 "nbformat_minor": 2
}
